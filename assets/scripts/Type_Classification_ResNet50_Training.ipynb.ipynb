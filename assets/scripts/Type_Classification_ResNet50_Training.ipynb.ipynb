{
 "cells": [
  {
   "cell_type": "code",
   "execution_count": 1,
   "id": "950bf810",
   "metadata": {
    "pycharm": {
     "name": "#%%\n"
    }
   },
   "outputs": [],
   "source": [
    "from tensorflow.keras.layers import Conv2D,Flatten,Dense,MaxPool2D,BatchNormalization,GlobalAveragePooling2D\n",
    "from tensorflow.keras.applications.resnet50 import preprocess_input,decode_predictions\n",
    "from tensorflow.keras.preprocessing.image import ImageDataGenerator,load_img\n",
    "from tensorflow.keras.applications.resnet50 import ResNet50\n",
    "from tensorflow.keras.preprocessing import image\n",
    "from tensorflow.keras.models import Sequential\n",
    "from tensorflow.keras.models import Model\n",
    "import matplotlib.pyplot as plt\n",
    "import numpy as np\n",
    "import pandas as pd\n",
    "import seaborn as sns\n",
    "import tensorflow as tf"
   ]
  },
  {
   "cell_type": "code",
   "execution_count": 2,
   "id": "79574862",
   "metadata": {
    "pycharm": {
     "name": "#%%\n"
    }
   },
   "outputs": [],
   "source": [
    "img_height,img_width = (224,224)\n",
    "batch_size = 32\n",
    "train_data_dir = r\"C:\\\\Users\\\\Admin\\\\machine learning\\\\machine learnig\\\\stage_ete_02\\\\test_type\\\\test_resnet\\\\output_type\\\\train\"\n",
    "valid_data_dir = r\"C:\\\\Users\\\\Admin\\\\machine learning\\\\machine learnig\\\\stage_ete_02\\\\test_type\\\\test_resnet\\\\output_type\\\\val\"\n",
    "test_data_dir = r\"C:\\\\Users\\\\Admin\\\\machine learning\\\\machine learnig\\\\stage_ete_02\\\\test_type\\\\test_resnet\\\\output_type\\\\test\""
   ]
  },
  {
   "cell_type": "code",
   "execution_count": 3,
   "id": "29533364",
   "metadata": {
    "pycharm": {
     "name": "#%%\n"
    }
   },
   "outputs": [
    {
     "name": "stdout",
     "output_type": "stream",
     "text": [
      "Found 766 images belonging to 2 classes.\n",
      "Found 145 images belonging to 2 classes.\n"
     ]
    }
   ],
   "source": [
    "train_datagen = ImageDataGenerator(preprocessing_function=preprocess_input,\n",
    "    \n",
    "    shear_range=0.2,\n",
    "    zoom_range=0.2,\n",
    "    horizontal_flip=True,\n",
    "    validation_split=0.4)\n",
    "\n",
    "train_generator = train_datagen.flow_from_directory(\n",
    "    train_data_dir,\n",
    "    target_size=(img_height,img_width),\n",
    "    batch_size=batch_size,\n",
    "    class_mode='categorical',\n",
    "    subset='training') # set as training data\n",
    "\n",
    "valid_generator=train_datagen.flow_from_directory(\n",
    "    valid_data_dir,#same directory as training data\n",
    "    target_size=(img_height,img_width),\n",
    "    batch_size=batch_size,\n",
    "    class_mode='categorical',\n",
    "    subset='validation')#set as validation data"
   ]
  },
  {
   "cell_type": "code",
   "execution_count": 4,
   "id": "0dd32a87",
   "metadata": {
    "pycharm": {
     "name": "#%%\n"
    }
   },
   "outputs": [
    {
     "name": "stdout",
     "output_type": "stream",
     "text": [
      "Found 73 images belonging to 2 classes.\n"
     ]
    }
   ],
   "source": [
    "test_generator=train_datagen.flow_from_directory(\n",
    "    test_data_dir,#same directory as training data\n",
    "    target_size=(img_height,img_width),\n",
    "    batch_size=1,\n",
    "    class_mode='categorical',\n",
    "    subset='validation')#set as validation data"
   ]
  },
  {
   "cell_type": "code",
   "execution_count": 5,
   "id": "72785927",
   "metadata": {
    "pycharm": {
     "name": "#%%\n"
    }
   },
   "outputs": [
    {
     "data": {
      "text/plain": [
       "(1, 224, 224, 3)"
      ]
     },
     "execution_count": 5,
     "metadata": {},
     "output_type": "execute_result"
    }
   ],
   "source": [
    "x,y = test_generator.next()\n",
    "x.shape"
   ]
  },
  {
   "cell_type": "code",
   "execution_count": 6,
   "id": "90db4e99",
   "metadata": {
    "pycharm": {
     "name": "#%%\n"
    }
   },
   "outputs": [],
   "source": [
    "base_model = ResNet50(include_top=False,weights='imagenet',input_shape=(img_height,img_width,3))\n",
    "\n",
    "for layer in base_model.layers:\n",
    "    layer.trainable=False\n",
    "    \n",
    "    \n",
    "x = base_model.output\n",
    "x = GlobalAveragePooling2D()(x)\n",
    "x = Dense(1024,activation='relu')(x)\n",
    "x = Dense(512,activation='relu')(x)\n",
    "x = Dense(256,activation='relu')(x)\n",
    "x = Dense(64,activation='relu')(x)\n",
    "                     \n",
    "predictions = Dense(train_generator.num_classes,activation='softmax')(x)\n",
    "model = Model(inputs=base_model.input ,outputs=predictions)\n",
    "\n"
   ]
  },
  {
   "cell_type": "code",
   "execution_count": 7,
   "id": "50c938a2",
   "metadata": {
    "pycharm": {
     "name": "#%%\n"
    }
   },
   "outputs": [
    {
     "name": "stdout",
     "output_type": "stream",
     "text": [
      "Epoch 1/50\n",
      "24/24 [==============================] - 55s 2s/step - loss: 0.2403 - accuracy: 0.9112\n",
      "Epoch 2/50\n",
      "24/24 [==============================] - 39s 2s/step - loss: 0.0391 - accuracy: 0.9896\n",
      "Epoch 3/50\n",
      "24/24 [==============================] - 39s 2s/step - loss: 0.0228 - accuracy: 0.9948\n",
      "Epoch 4/50\n",
      "24/24 [==============================] - 39s 2s/step - loss: 0.0117 - accuracy: 0.9948\n",
      "Epoch 5/50\n",
      "24/24 [==============================] - 38s 2s/step - loss: 0.0116 - accuracy: 0.9974\n",
      "Epoch 6/50\n",
      "24/24 [==============================] - 40s 2s/step - loss: 0.0014 - accuracy: 1.0000\n",
      "Epoch 7/50\n",
      "24/24 [==============================] - 38s 2s/step - loss: 0.0015 - accuracy: 1.0000\n",
      "Epoch 8/50\n",
      "24/24 [==============================] - 39s 2s/step - loss: 0.0064 - accuracy: 0.9974\n",
      "Epoch 9/50\n",
      "24/24 [==============================] - 39s 2s/step - loss: 0.0351 - accuracy: 0.9909\n",
      "Epoch 10/50\n",
      "24/24 [==============================] - 39s 2s/step - loss: 0.0039 - accuracy: 0.9987\n",
      "Epoch 11/50\n",
      "24/24 [==============================] - 39s 2s/step - loss: 0.0050 - accuracy: 0.9974\n",
      "Epoch 12/50\n",
      "24/24 [==============================] - 40s 2s/step - loss: 0.0526 - accuracy: 0.9856\n",
      "Epoch 13/50\n",
      "24/24 [==============================] - 38s 2s/step - loss: 0.0045 - accuracy: 0.9987\n",
      "Epoch 14/50\n",
      "24/24 [==============================] - 40s 2s/step - loss: 0.0162 - accuracy: 0.9961\n",
      "Epoch 15/50\n",
      "24/24 [==============================] - 39s 2s/step - loss: 0.0031 - accuracy: 0.9987\n",
      "Epoch 16/50\n",
      "24/24 [==============================] - 39s 2s/step - loss: 0.0014 - accuracy: 1.0000\n",
      "Epoch 17/50\n",
      "24/24 [==============================] - 39s 2s/step - loss: 0.0124 - accuracy: 0.9961\n",
      "Epoch 18/50\n",
      "24/24 [==============================] - 40s 2s/step - loss: 0.0025 - accuracy: 0.9987\n",
      "Epoch 19/50\n",
      "24/24 [==============================] - 39s 2s/step - loss: 1.4078e-05 - accuracy: 1.0000\n",
      "Epoch 20/50\n",
      "24/24 [==============================] - 39s 2s/step - loss: 5.8555e-06 - accuracy: 1.0000\n",
      "Epoch 21/50\n",
      "24/24 [==============================] - 38s 2s/step - loss: 2.4290e-05 - accuracy: 1.0000\n",
      "Epoch 22/50\n",
      "24/24 [==============================] - 39s 2s/step - loss: 6.6775e-07 - accuracy: 1.0000\n",
      "Epoch 23/50\n",
      "24/24 [==============================] - 39s 2s/step - loss: 1.8580e-05 - accuracy: 1.0000\n",
      "Epoch 24/50\n",
      "24/24 [==============================] - 39s 2s/step - loss: 2.0542e-07 - accuracy: 1.0000\n",
      "Epoch 25/50\n",
      "24/24 [==============================] - 39s 2s/step - loss: 2.3716e-07 - accuracy: 1.0000\n",
      "Epoch 26/50\n",
      "24/24 [==============================] - 39s 2s/step - loss: 1.4576e-05 - accuracy: 1.0000\n",
      "Epoch 27/50\n",
      "24/24 [==============================] - 39s 2s/step - loss: 2.8587e-07 - accuracy: 1.0000\n",
      "Epoch 28/50\n",
      "24/24 [==============================] - 39s 2s/step - loss: 6.8630e-08 - accuracy: 1.0000\n",
      "Epoch 29/50\n",
      "24/24 [==============================] - 39s 2s/step - loss: 4.9800e-08 - accuracy: 1.0000\n",
      "Epoch 30/50\n",
      "24/24 [==============================] - 39s 2s/step - loss: 4.7310e-08 - accuracy: 1.0000\n",
      "Epoch 31/50\n",
      "24/24 [==============================] - 39s 2s/step - loss: 8.0301e-08 - accuracy: 1.0000\n",
      "Epoch 32/50\n",
      "24/24 [==============================] - 39s 2s/step - loss: 6.1627e-08 - accuracy: 1.0000\n",
      "Epoch 33/50\n",
      "24/24 [==============================] - 39s 2s/step - loss: 5.2912e-08 - accuracy: 1.0000\n",
      "Epoch 34/50\n",
      "24/24 [==============================] - 39s 2s/step - loss: 3.0191e-08 - accuracy: 1.0000\n",
      "Epoch 35/50\n",
      "24/24 [==============================] - 40s 2s/step - loss: 4.1552e-08 - accuracy: 1.0000\n",
      "Epoch 36/50\n",
      "24/24 [==============================] - 40s 2s/step - loss: 1.5920e-07 - accuracy: 1.0000\n",
      "Epoch 37/50\n",
      "24/24 [==============================] - 38s 2s/step - loss: 8.4658e-08 - accuracy: 1.0000\n",
      "Epoch 38/50\n",
      "24/24 [==============================] - 39s 2s/step - loss: 3.7408e-07 - accuracy: 1.0000\n",
      "Epoch 39/50\n",
      "24/24 [==============================] - 38s 2s/step - loss: 1.1941e-05 - accuracy: 1.0000\n",
      "Epoch 40/50\n",
      "24/24 [==============================] - 39s 2s/step - loss: 2.1987e-06 - accuracy: 1.0000\n",
      "Epoch 41/50\n",
      "24/24 [==============================] - 39s 2s/step - loss: 1.2099e-06 - accuracy: 1.0000\n",
      "Epoch 42/50\n",
      "24/24 [==============================] - 39s 2s/step - loss: 8.2347e-07 - accuracy: 1.0000\n",
      "Epoch 43/50\n",
      "24/24 [==============================] - 39s 2s/step - loss: 1.6169e-05 - accuracy: 1.0000\n",
      "Epoch 44/50\n",
      "24/24 [==============================] - 39s 2s/step - loss: 1.7274e-08 - accuracy: 1.0000\n",
      "Epoch 45/50\n",
      "24/24 [==============================] - 39s 2s/step - loss: 1.1672e-08 - accuracy: 1.0000\n",
      "Epoch 46/50\n",
      "24/24 [==============================] - 39s 2s/step - loss: 1.2294e-08 - accuracy: 1.0000\n",
      "Epoch 47/50\n",
      "24/24 [==============================] - 39s 2s/step - loss: 1.3384e-08 - accuracy: 1.0000\n",
      "Epoch 48/50\n",
      "24/24 [==============================] - 39s 2s/step - loss: 3.1903e-08 - accuracy: 1.0000\n",
      "Epoch 49/50\n",
      "24/24 [==============================] - 39s 2s/step - loss: 2.3444e-06 - accuracy: 1.0000\n",
      "Epoch 50/50\n",
      "24/24 [==============================] - 39s 2s/step - loss: 2.8946e-08 - accuracy: 1.0000\n"
     ]
    },
    {
     "data": {
      "text/plain": [
       "<keras.callbacks.History at 0x186a6d9bb20>"
      ]
     },
     "execution_count": 7,
     "metadata": {},
     "output_type": "execute_result"
    }
   ],
   "source": [
    "    \n",
    "model.compile(optimizer='adam',loss='categorical_crossentropy' ,metrics=['accuracy'])\n",
    "model.fit(train_generator,\n",
    "                         epochs = 50)"
   ]
  },
  {
   "cell_type": "code",
   "execution_count": 11,
   "id": "4f3f3558",
   "metadata": {
    "pycharm": {
     "name": "#%%\n"
    }
   },
   "outputs": [],
   "source": [
    "model.save('C:\\\\Users\\\\Admin\\\\machine learning\\\\machine learnig\\\\stage_ete_02\\\\test_type\\\\save_test\\\\ResNet50type.h5' )"
   ]
  },
  {
   "cell_type": "code",
   "execution_count": 12,
   "id": "2125a897",
   "metadata": {
    "pycharm": {
     "name": "#%%\n"
    }
   },
   "outputs": [
    {
     "name": "stdout",
     "output_type": "stream",
     "text": [
      "73/73 - 7s - loss: 2.0347e-05 - accuracy: 1.0000 - 7s/epoch - 93ms/step\n",
      "\n",
      "test accuracy: 1.0\n"
     ]
    }
   ],
   "source": [
    "test_loss,test_acc = model.evaluate(test_generator, verbose=2)\n",
    "print('\\ntest accuracy:' , test_acc)"
   ]
  },
  {
   "cell_type": "code",
   "execution_count": 13,
   "id": "a531e01a",
   "metadata": {
    "pycharm": {
     "name": "#%%\n"
    }
   },
   "outputs": [
    {
     "name": "stdout",
     "output_type": "stream",
     "text": [
      "1/1 [==============================] - 2s 2s/step\n",
      "1/1 [==============================] - 0s 60ms/step\n",
      "1/1 [==============================] - 0s 54ms/step\n",
      "1/1 [==============================] - 0s 55ms/step\n",
      "1/1 [==============================] - 0s 63ms/step\n",
      "1/1 [==============================] - 0s 55ms/step\n",
      "1/1 [==============================] - 0s 63ms/step\n",
      "1/1 [==============================] - 0s 53ms/step\n",
      "1/1 [==============================] - 0s 63ms/step\n",
      "1/1 [==============================] - 0s 55ms/step\n",
      "1/1 [==============================] - 0s 54ms/step\n",
      "1/1 [==============================] - 0s 56ms/step\n",
      "1/1 [==============================] - 0s 60ms/step\n",
      "1/1 [==============================] - 0s 55ms/step\n",
      "1/1 [==============================] - 0s 55ms/step\n",
      "1/1 [==============================] - 0s 51ms/step\n",
      "1/1 [==============================] - 0s 64ms/step\n",
      "1/1 [==============================] - 0s 58ms/step\n",
      "1/1 [==============================] - 0s 69ms/step\n",
      "1/1 [==============================] - 0s 64ms/step\n",
      "1/1 [==============================] - 0s 55ms/step\n",
      "1/1 [==============================] - 0s 58ms/step\n",
      "1/1 [==============================] - 0s 60ms/step\n",
      "1/1 [==============================] - 0s 54ms/step\n",
      "1/1 [==============================] - 0s 68ms/step\n",
      "1/1 [==============================] - 0s 57ms/step\n",
      "1/1 [==============================] - 0s 57ms/step\n",
      "1/1 [==============================] - 0s 65ms/step\n",
      "1/1 [==============================] - 0s 57ms/step\n",
      "1/1 [==============================] - 0s 58ms/step\n",
      "1/1 [==============================] - 0s 69ms/step\n",
      "1/1 [==============================] - 0s 57ms/step\n",
      "1/1 [==============================] - 0s 59ms/step\n",
      "1/1 [==============================] - 0s 56ms/step\n",
      "1/1 [==============================] - 0s 52ms/step\n",
      "1/1 [==============================] - 0s 54ms/step\n",
      "1/1 [==============================] - 0s 56ms/step\n",
      "1/1 [==============================] - 0s 69ms/step\n",
      "1/1 [==============================] - 0s 66ms/step\n",
      "1/1 [==============================] - 0s 67ms/step\n",
      "1/1 [==============================] - 0s 60ms/step\n",
      "1/1 [==============================] - 0s 57ms/step\n",
      "1/1 [==============================] - 0s 67ms/step\n",
      "1/1 [==============================] - 0s 48ms/step\n",
      "1/1 [==============================] - 0s 50ms/step\n",
      "1/1 [==============================] - 0s 48ms/step\n",
      "1/1 [==============================] - 0s 43ms/step\n",
      "1/1 [==============================] - 0s 49ms/step\n",
      "1/1 [==============================] - 0s 58ms/step\n",
      "1/1 [==============================] - 0s 69ms/step\n",
      "1/1 [==============================] - 0s 51ms/step\n",
      "1/1 [==============================] - 0s 50ms/step\n",
      "1/1 [==============================] - 0s 50ms/step\n",
      "1/1 [==============================] - 0s 46ms/step\n",
      "1/1 [==============================] - 0s 44ms/step\n",
      "1/1 [==============================] - 0s 53ms/step\n",
      "1/1 [==============================] - 0s 47ms/step\n",
      "1/1 [==============================] - 0s 46ms/step\n",
      "1/1 [==============================] - 0s 47ms/step\n",
      "1/1 [==============================] - 0s 47ms/step\n",
      "1/1 [==============================] - 0s 53ms/step\n",
      "1/1 [==============================] - 0s 66ms/step\n",
      "1/1 [==============================] - 0s 58ms/step\n",
      "1/1 [==============================] - 0s 61ms/step\n",
      "1/1 [==============================] - 0s 56ms/step\n",
      "1/1 [==============================] - 0s 60ms/step\n",
      "1/1 [==============================] - 0s 55ms/step\n",
      "1/1 [==============================] - 0s 65ms/step\n",
      "1/1 [==============================] - 0s 59ms/step\n",
      "1/1 [==============================] - 0s 57ms/step\n",
      "1/1 [==============================] - 0s 58ms/step\n",
      "1/1 [==============================] - 0s 54ms/step\n",
      "1/1 [==============================] - 0s 56ms/step\n"
     ]
    },
    {
     "data": {
      "image/png": "[encoded data removed]",
      "text/plain": [
       "<Figure size 432x288 with 2 Axes>"
      ]
     },
     "metadata": {
      "needs_background": "light"
     },
     "output_type": "display_data"
    },
    {
     "name": "stdout",
     "output_type": "stream",
     "text": [
      "test accuracy:100.0\n"
     ]
    }
   ],
   "source": [
    "model = tf.keras.models.load_model('C:\\\\Users\\\\Admin\\\\machine learning\\\\machine learnig\\\\stage_ete_02\\\\test_type\\\\save_test\\\\ResNet50type.h5')\n",
    "filenames = test_generator.filenames\n",
    "nb_samples = len(test_generator)\n",
    "y_prob=[]\n",
    "y_act=[]\n",
    "test_generator.reset()\n",
    "for _ in range(nb_samples):\n",
    "    X_test,Y_test = test_generator.next()\n",
    "    y_prob.append(model.predict(X_test))\n",
    "    y_act.append(Y_test)\n",
    "\n",
    "predicted_class = [list(train_generator.class_indices.keys())[i.argmax()] for i in y_prob]\n",
    "actual_class = [list(train_generator.class_indices.keys())[i.argmax()]for i in y_act]\n",
    "\n",
    "out_df = pd.DataFrame(np.vstack([predicted_class,actual_class]).T,columns=['predicted_class','actual_class'])\n",
    "confusion_matrix = pd.crosstab(out_df['actual_class'],out_df['predicted_class'],rownames=['Actual'],colnames=['Predicted'])\n",
    "\n",
    "sns.heatmap(confusion_matrix,cmap='Blues',annot=True,fmt='d')\n",
    "plt.show()\n",
    "print('test accuracy:{}'.format((np.diagonal(confusion_matrix).sum()/confusion_matrix.sum().sum()*100)))"
   ]
  },
  {
   "cell_type": "code",
   "execution_count": 14,
   "id": "a78b542f",
   "metadata": {
    "pycharm": {
     "name": "#%%\n"
    }
   },
   "outputs": [],
   "source": [
    "base_model2 = tf.keras.applications.ResNet50V2(include_top=False,weights='imagenet',input_shape=(img_height,img_width,3))\n",
    "\n",
    "x = base_model2.output\n",
    "x = GlobalAveragePooling2D()(x)\n",
    "x = Dense(1024,activation='relu')(x)\n",
    "x = Dense(512,activation='relu')(x)\n",
    "x = Dense(256,activation='relu')(x)\n",
    "x = Dense(64,activation='relu')(x)\n",
    "\n",
    "for layer in base_model2.layers:\n",
    "    layer.trainable=False\n",
    "                     \n",
    "predictions = Dense(train_generator.num_classes,activation='softmax')(x)\n",
    "model2 = Model(inputs=base_model2.input ,outputs=predictions)\n",
    "\n"
   ]
  },
  {
   "cell_type": "code",
   "execution_count": 15,
   "id": "a84afa80",
   "metadata": {
    "pycharm": {
     "name": "#%%\n"
    }
   },
   "outputs": [
    {
     "name": "stdout",
     "output_type": "stream",
     "text": [
      "Epoch 1/35\n",
      "24/24 [==============================] - 46s 2s/step - loss: 22.1496 - accuracy: 0.7728\n",
      "Epoch 2/35\n",
      "24/24 [==============================] - 39s 2s/step - loss: 9.7076 - accuracy: 0.8094\n",
      "Epoch 3/35\n",
      "24/24 [==============================] - 38s 2s/step - loss: 2.3928 - accuracy: 0.8499\n",
      "Epoch 4/35\n",
      "24/24 [==============================] - 39s 2s/step - loss: 1.0850 - accuracy: 0.9047\n",
      "Epoch 5/35\n",
      "24/24 [==============================] - 38s 2s/step - loss: 1.8634 - accuracy: 0.8603\n",
      "Epoch 6/35\n",
      "24/24 [==============================] - 39s 2s/step - loss: 0.9294 - accuracy: 0.9086\n",
      "Epoch 7/35\n",
      "24/24 [==============================] - 39s 2s/step - loss: 0.5841 - accuracy: 0.9230\n",
      "Epoch 8/35\n",
      "24/24 [==============================] - 38s 2s/step - loss: 0.3141 - accuracy: 0.9608\n",
      "Epoch 9/35\n",
      "24/24 [==============================] - 39s 2s/step - loss: 0.1570 - accuracy: 0.9530\n",
      "Epoch 10/35\n",
      "24/24 [==============================] - 38s 2s/step - loss: 0.2893 - accuracy: 0.9465\n",
      "Epoch 11/35\n",
      "24/24 [==============================] - 38s 2s/step - loss: 0.3693 - accuracy: 0.9399\n",
      "Epoch 12/35\n",
      "24/24 [==============================] - 39s 2s/step - loss: 0.3812 - accuracy: 0.9426\n",
      "Epoch 13/35\n",
      "24/24 [==============================] - 38s 2s/step - loss: 0.2290 - accuracy: 0.9621\n",
      "Epoch 14/35\n",
      "24/24 [==============================] - 39s 2s/step - loss: 0.2098 - accuracy: 0.9373\n",
      "Epoch 15/35\n",
      "24/24 [==============================] - 38s 2s/step - loss: 0.1704 - accuracy: 0.9582\n",
      "Epoch 16/35\n",
      "24/24 [==============================] - 39s 2s/step - loss: 0.0835 - accuracy: 0.9765\n",
      "Epoch 17/35\n",
      "24/24 [==============================] - 38s 2s/step - loss: 0.1210 - accuracy: 0.9674\n",
      "Epoch 18/35\n",
      "24/24 [==============================] - 38s 2s/step - loss: 0.0569 - accuracy: 0.9830\n",
      "Epoch 19/35\n",
      "24/24 [==============================] - 38s 2s/step - loss: 0.0596 - accuracy: 0.9883\n",
      "Epoch 20/35\n",
      "24/24 [==============================] - 38s 2s/step - loss: 0.0756 - accuracy: 0.9817\n",
      "Epoch 21/35\n",
      "24/24 [==============================] - 39s 2s/step - loss: 0.0514 - accuracy: 0.9869\n",
      "Epoch 22/35\n",
      "24/24 [==============================] - 39s 2s/step - loss: 0.0485 - accuracy: 0.9817\n",
      "Epoch 23/35\n",
      "24/24 [==============================] - 38s 2s/step - loss: 0.0560 - accuracy: 0.9804\n",
      "Epoch 24/35\n",
      "24/24 [==============================] - 39s 2s/step - loss: 0.0395 - accuracy: 0.9896\n",
      "Epoch 25/35\n",
      "24/24 [==============================] - 38s 2s/step - loss: 0.0420 - accuracy: 0.9883\n",
      "Epoch 26/35\n",
      "24/24 [==============================] - 39s 2s/step - loss: 0.0555 - accuracy: 0.9856\n",
      "Epoch 27/35\n",
      "24/24 [==============================] - 38s 2s/step - loss: 0.0434 - accuracy: 0.9856\n",
      "Epoch 28/35\n",
      "24/24 [==============================] - 39s 2s/step - loss: 0.0527 - accuracy: 0.9856\n",
      "Epoch 29/35\n",
      "24/24 [==============================] - 38s 2s/step - loss: 0.0418 - accuracy: 0.9856\n",
      "Epoch 30/35\n",
      "24/24 [==============================] - 33s 1s/step - loss: 0.0723 - accuracy: 0.9778\n",
      "Epoch 31/35\n",
      "24/24 [==============================] - 50s 2s/step - loss: 0.0542 - accuracy: 0.9817\n",
      "Epoch 32/35\n",
      "24/24 [==============================] - 34s 1s/step - loss: 0.0357 - accuracy: 0.9856\n",
      "Epoch 33/35\n",
      "24/24 [==============================] - 29s 1s/step - loss: 0.0453 - accuracy: 0.9843\n",
      "Epoch 34/35\n",
      "24/24 [==============================] - 31s 1s/step - loss: 0.0408 - accuracy: 0.9856\n",
      "Epoch 35/35\n",
      "24/24 [==============================] - 31s 1s/step - loss: 0.0460 - accuracy: 0.9909\n"
     ]
    },
    {
     "data": {
      "text/plain": [
       "<keras.callbacks.History at 0x18735f7a4f0>"
      ]
     },
     "execution_count": 15,
     "metadata": {},
     "output_type": "execute_result"
    }
   ],
   "source": [
    "    \n",
    "model2.compile(optimizer='adam',loss='categorical_crossentropy' ,metrics=['accuracy'])\n",
    "model2.fit(train_generator,\n",
    "                         epochs = 35)"
   ]
  },
  {
   "cell_type": "code",
   "execution_count": 16,
   "id": "24c4bea9",
   "metadata": {
    "pycharm": {
     "name": "#%%\n"
    }
   },
   "outputs": [
    {
     "name": "stdout",
     "output_type": "stream",
     "text": [
      "73/73 - 6s - loss: 0.0529 - accuracy: 0.9863 - 6s/epoch - 84ms/step\n",
      "\n",
      "test accuracy: 0.9863013625144958\n"
     ]
    }
   ],
   "source": [
    "test_loss,test_acc = model2.evaluate(test_generator, verbose=2)\n",
    "print('\\ntest accuracy:' , test_acc)"
   ]
  },
  {
   "cell_type": "code",
   "execution_count": 17,
   "id": "d76b00fe",
   "metadata": {
    "pycharm": {
     "name": "#%%\n"
    }
   },
   "outputs": [],
   "source": [
    "model2.save('C:\\\\Users\\\\Admin\\\\machine learning\\\\machine learnig\\\\stage_ete_02\\\\test_type\\\\save_test\\\\ResNet50V2.h5' )"
   ]
  },
  {
   "cell_type": "code",
   "execution_count": 18,
   "id": "766178d2",
   "metadata": {
    "pycharm": {
     "name": "#%%\n"
    }
   },
   "outputs": [
    {
     "name": "stdout",
     "output_type": "stream",
     "text": [
      "1/1 [==============================] - 1s 1s/step\n",
      "1/1 [==============================] - 0s 33ms/step\n",
      "1/1 [==============================] - 0s 39ms/step\n",
      "1/1 [==============================] - 0s 42ms/step\n",
      "1/1 [==============================] - 0s 47ms/step\n",
      "1/1 [==============================] - 0s 45ms/step\n",
      "1/1 [==============================] - 0s 47ms/step\n",
      "1/1 [==============================] - 0s 42ms/step\n",
      "1/1 [==============================] - 0s 48ms/step\n",
      "1/1 [==============================] - 0s 42ms/step\n",
      "1/1 [==============================] - 0s 43ms/step\n",
      "1/1 [==============================] - 0s 49ms/step\n",
      "1/1 [==============================] - 0s 55ms/step\n",
      "1/1 [==============================] - 0s 69ms/step\n",
      "1/1 [==============================] - 0s 59ms/step\n",
      "1/1 [==============================] - 0s 45ms/step\n",
      "1/1 [==============================] - 0s 42ms/step\n",
      "1/1 [==============================] - 0s 45ms/step\n",
      "1/1 [==============================] - 0s 49ms/step\n",
      "1/1 [==============================] - 0s 30ms/step\n",
      "1/1 [==============================] - 0s 30ms/step\n",
      "1/1 [==============================] - 0s 42ms/step\n",
      "1/1 [==============================] - 0s 44ms/step\n",
      "1/1 [==============================] - 0s 45ms/step\n",
      "1/1 [==============================] - 0s 55ms/step\n",
      "1/1 [==============================] - 0s 45ms/step\n",
      "1/1 [==============================] - 0s 28ms/step\n",
      "1/1 [==============================] - 0s 33ms/step\n",
      "1/1 [==============================] - 0s 30ms/step\n",
      "1/1 [==============================] - 0s 32ms/step\n",
      "1/1 [==============================] - 0s 38ms/step\n",
      "1/1 [==============================] - 0s 41ms/step\n",
      "1/1 [==============================] - 0s 37ms/step\n",
      "1/1 [==============================] - 0s 38ms/step\n",
      "1/1 [==============================] - 0s 36ms/step\n",
      "1/1 [==============================] - 0s 39ms/step\n",
      "1/1 [==============================] - 0s 39ms/step\n",
      "1/1 [==============================] - 0s 39ms/step\n",
      "1/1 [==============================] - 0s 51ms/step\n",
      "1/1 [==============================] - 0s 43ms/step\n",
      "1/1 [==============================] - 0s 43ms/step\n",
      "1/1 [==============================] - 0s 51ms/step\n",
      "1/1 [==============================] - 0s 46ms/step\n",
      "1/1 [==============================] - 0s 44ms/step\n",
      "1/1 [==============================] - 0s 51ms/step\n",
      "1/1 [==============================] - 0s 44ms/step\n",
      "1/1 [==============================] - 0s 47ms/step\n",
      "1/1 [==============================] - 0s 35ms/step\n",
      "1/1 [==============================] - 0s 39ms/step\n",
      "1/1 [==============================] - 0s 44ms/step\n",
      "1/1 [==============================] - 0s 45ms/step\n",
      "1/1 [==============================] - 0s 31ms/step\n",
      "1/1 [==============================] - 0s 31ms/step\n",
      "1/1 [==============================] - 0s 32ms/step\n",
      "1/1 [==============================] - 0s 47ms/step\n",
      "1/1 [==============================] - 0s 35ms/step\n",
      "1/1 [==============================] - 0s 42ms/step\n",
      "1/1 [==============================] - 0s 35ms/step\n",
      "1/1 [==============================] - 0s 31ms/step\n",
      "1/1 [==============================] - 0s 37ms/step\n",
      "1/1 [==============================] - 0s 41ms/step\n",
      "1/1 [==============================] - 0s 37ms/step\n",
      "1/1 [==============================] - 0s 48ms/step\n",
      "1/1 [==============================] - 0s 37ms/step\n",
      "1/1 [==============================] - 0s 35ms/step\n",
      "1/1 [==============================] - 0s 32ms/step\n",
      "1/1 [==============================] - 0s 53ms/step\n",
      "1/1 [==============================] - 0s 39ms/step\n",
      "1/1 [==============================] - 0s 35ms/step\n",
      "1/1 [==============================] - 0s 52ms/step\n",
      "1/1 [==============================] - 0s 37ms/step\n",
      "1/1 [==============================] - 0s 36ms/step\n",
      "1/1 [==============================] - 0s 39ms/step\n"
     ]
    },
    {
     "data": {
      "image/png": "[encoded data removed]",
      "text/plain": [
       "<Figure size 432x288 with 2 Axes>"
      ]
     },
     "metadata": {
      "needs_background": "light"
     },
     "output_type": "display_data"
    },
    {
     "name": "stdout",
     "output_type": "stream",
     "text": [
      "test accuracy:97.26027397260275\n"
     ]
    }
   ],
   "source": [
    "model2 = tf.keras.models.load_model('C:\\\\Users\\\\Admin\\\\machine learning\\\\machine learnig\\\\stage_ete_02\\\\test_type\\\\save_test\\\\ResNet50V2.h5')\n",
    "filenames = test_generator.filenames\n",
    "nb_samples = len(test_generator)\n",
    "y_prob=[]\n",
    "y_act=[]\n",
    "test_generator.reset()\n",
    "for _ in range(nb_samples):\n",
    "    X_test,Y_test = test_generator.next()\n",
    "    y_prob.append(model2.predict(X_test))\n",
    "    y_act.append(Y_test)\n",
    "\n",
    "predicted_class = [list(train_generator.class_indices.keys())[i.argmax()] for i in y_prob]\n",
    "actual_class = [list(train_generator.class_indices.keys())[i.argmax()]for i in y_act]\n",
    "\n",
    "out_df = pd.DataFrame(np.vstack([predicted_class,actual_class]).T,columns=['predicted_class','actual_class'])\n",
    "confusion_matrix = pd.crosstab(out_df['actual_class'],out_df['predicted_class'],rownames=['Actual'],colnames=['Predicted'])\n",
    "\n",
    "sns.heatmap(confusion_matrix,cmap='Blues',annot=True,fmt='d')\n",
    "plt.show()\n",
    "print('test accuracy:{}'.format((np.diagonal(confusion_matrix).sum()/confusion_matrix.sum().sum()*100)))"
   ]
  },
  {
   "cell_type": "code",
   "execution_count": null,
   "id": "641e9290",
   "metadata": {
    "pycharm": {
     "name": "#%%\n"
    }
   },
   "outputs": [],
   "source": []
  },
  {
   "cell_type": "code",
   "execution_count": null,
   "id": "96f64b99",
   "metadata": {
    "pycharm": {
     "name": "#%%\n"
    }
   },
   "outputs": [],
   "source": []
  },
  {
   "cell_type": "code",
   "execution_count": null,
   "id": "c2c498b6",
   "metadata": {
    "pycharm": {
     "name": "#%%\n"
    }
   },
   "outputs": [],
   "source": []
  },
  {
   "cell_type": "code",
   "execution_count": null,
   "id": "f8886095",
   "metadata": {
    "pycharm": {
     "name": "#%%\n"
    }
   },
   "outputs": [],
   "source": []
  }
 ],
 "metadata": {
  "kernelspec": {
   "display_name": "Python 3 (ipykernel)",
   "language": "python",
   "name": "python3"
  },
  "language_info": {
   "codemirror_mode": {
    "name": "ipython",
    "version": 3
   },
   "file_extension": ".py",
   "mimetype": "text/x-python",
   "name": "python",
   "nbconvert_exporter": "python",
   "pygments_lexer": "ipython3",
   "version": "3.9.12"
  }
 },
 "nbformat": 4,
 "nbformat_minor": 5
}