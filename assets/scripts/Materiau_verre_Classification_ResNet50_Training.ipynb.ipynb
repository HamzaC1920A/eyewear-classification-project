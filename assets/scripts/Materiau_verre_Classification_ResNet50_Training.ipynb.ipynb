{
 "cells": [
  {
   "cell_type": "code",
   "execution_count": null,
   "id": "436c55ea",
   "metadata": {
    "pycharm": {
     "is_executing": true,
     "name": "#%%\n"
    }
   },
   "outputs": [],
   "source": [
    "from tensorflow.keras.layers import Conv2D,Flatten,Dense,MaxPool2D,BatchNormalization,GlobalAveragePooling2D\n",
    "from tensorflow.keras.applications.resnet50 import preprocess_input,decode_predictions\n",
    "from tensorflow.keras.preprocessing.image import ImageDataGenerator,load_img\n",
    "from tensorflow.keras.applications.resnet50 import ResNet50\n",
    "from tensorflow.keras.preprocessing import image\n",
    "from tensorflow.keras.models import Sequential\n",
    "from tensorflow.keras.models import Model\n",
    "import matplotlib.pyplot as plt\n",
    "import numpy as np\n",
    "import pandas as pd\n",
    "import seaborn as sns\n",
    "import tensorflow as tf"
   ]
  },
  {
   "cell_type": "code",
   "execution_count": null,
   "id": "48a30898",
   "metadata": {
    "pycharm": {
     "is_executing": true,
     "name": "#%%\n"
    }
   },
   "outputs": [],
   "source": [
    "img_height,img_width = (224,224)\n",
    "batch_size = 32\n",
    "train_data_dir = r\"C:\\\\Users\\\\Admin\\\\machine learning\\\\machine learnig\\\\stage_ete_02\\\\test_matriaux\\\\test_resnet\\\\output_\\\\train\"\n",
    "valid_data_dir = r\"C:\\\\Users\\\\Admin\\\\machine learning\\\\machine learnig\\\\stage_ete_02\\\\test_matriaux\\\\test_resnet\\\\output_\\\\val\"\n",
    "test_data_dir = r\"C:\\\\Users\\\\Admin\\\\machine learning\\\\machine learnig\\\\stage_ete_02\\\\test_matriaux\\\\test_resnet\\\\output_\\\\test\""
   ]
  },
  {
   "cell_type": "code",
   "execution_count": null,
   "id": "3fd4b979",
   "metadata": {
    "pycharm": {
     "is_executing": true,
     "name": "#%%\n"
    }
   },
   "outputs": [],
   "source": [
    "train_datagen = ImageDataGenerator(preprocessing_function=preprocess_input,\n",
    "    \n",
    "    shear_range=0.2,\n",
    "    zoom_range=0.2,\n",
    "    horizontal_flip=True,\n",
    "    validation_split=0.4)\n",
    "\n",
    "train_generator = train_datagen.flow_from_directory(\n",
    "    train_data_dir,\n",
    "    target_size=(img_height,img_width),\n",
    "    batch_size=batch_size,\n",
    "    class_mode='categorical',\n",
    "    subset='training') # set as training data\n",
    "\n",
    "valid_generator=train_datagen.flow_from_directory(\n",
    "    valid_data_dir,#same directory as training data\n",
    "    target_size=(img_height,img_width),\n",
    "    batch_size=batch_size,\n",
    "    class_mode='categorical',\n",
    "    subset='validation')#set as validation data"
   ]
  },
  {
   "cell_type": "code",
   "execution_count": 6,
   "id": "55889482",
   "metadata": {
    "pycharm": {
     "name": "#%%\n"
    }
   },
   "outputs": [
    {
     "name": "stdout",
     "output_type": "stream",
     "text": [
      "Found 323 images belonging to 5 classes.\n"
     ]
    }
   ],
   "source": [
    "test_generator=train_datagen.flow_from_directory(\n",
    "    test_data_dir,#same directory as training data\n",
    "    target_size=(img_height,img_width),\n",
    "    batch_size=1,\n",
    "    class_mode='categorical',\n",
    "    subset='validation')#set as validation data"
   ]
  },
  {
   "cell_type": "code",
   "execution_count": 7,
   "id": "37728d1c",
   "metadata": {
    "pycharm": {
     "name": "#%%\n"
    }
   },
   "outputs": [
    {
     "data": {
      "text/plain": [
       "(1, 224, 224, 3)"
      ]
     },
     "execution_count": 7,
     "metadata": {},
     "output_type": "execute_result"
    }
   ],
   "source": [
    "x,y = test_generator.next()\n",
    "x.shape"
   ]
  },
  {
   "cell_type": "code",
   "execution_count": 8,
   "id": "e11cf07b",
   "metadata": {
    "pycharm": {
     "name": "#%%\n"
    }
   },
   "outputs": [],
   "source": [
    "base_model = ResNet50(include_top=False,weights='imagenet',input_shape=(img_height,img_width,3))\n",
    "\n",
    "for layer in base_model.layers:\n",
    "    layer.trainable=False\n",
    "    \n",
    "    \n",
    "x = base_model.output\n",
    "x = GlobalAveragePooling2D()(x)\n",
    "x = Dense(1024,activation='relu')(x)\n",
    "x = Dense(512,activation='relu')(x)\n",
    "x = Dense(256,activation='relu')(x)\n",
    "x = Dense(64,activation='relu')(x)\n",
    "                     \n",
    "predictions = Dense(train_generator.num_classes,activation='softmax')(x)\n",
    "model = Model(inputs=base_model.input ,outputs=predictions)\n",
    "\n"
   ]
  },
  {
   "cell_type": "code",
   "execution_count": 9,
   "id": "d34d774b",
   "metadata": {
    "pycharm": {
     "name": "#%%\n"
    }
   },
   "outputs": [
    {
     "name": "stdout",
     "output_type": "stream",
     "text": [
      "Epoch 1/50\n",
      "46/46 [==============================] - 200s 4s/step - loss: 0.6505 - accuracy: 0.7955\n",
      "Epoch 2/50\n",
      "46/46 [==============================] - 222s 5s/step - loss: 0.5116 - accuracy: 0.8373\n",
      "Epoch 3/50\n",
      "46/46 [==============================] - 219s 5s/step - loss: 0.4837 - accuracy: 0.8442\n",
      "Epoch 4/50\n",
      "46/46 [==============================] - 230s 5s/step - loss: 0.4834 - accuracy: 0.8456\n",
      "Epoch 5/50\n",
      "46/46 [==============================] - 223s 5s/step - loss: 0.4448 - accuracy: 0.8456\n",
      "Epoch 6/50\n",
      "46/46 [==============================] - 241s 5s/step - loss: 0.4408 - accuracy: 0.8511\n",
      "Epoch 7/50\n",
      "46/46 [==============================] - 230s 5s/step - loss: 0.4276 - accuracy: 0.8524\n",
      "Epoch 8/50\n",
      "46/46 [==============================] - 211s 5s/step - loss: 0.4030 - accuracy: 0.8600\n",
      "Epoch 9/50\n",
      "46/46 [==============================] - 188s 4s/step - loss: 0.3873 - accuracy: 0.8662\n",
      "Epoch 10/50\n",
      "46/46 [==============================] - 188s 4s/step - loss: 0.3704 - accuracy: 0.8648\n",
      "Epoch 11/50\n",
      "46/46 [==============================] - 191s 4s/step - loss: 0.3653 - accuracy: 0.8723\n",
      "Epoch 12/50\n",
      "46/46 [==============================] - 186s 4s/step - loss: 0.3537 - accuracy: 0.8696\n",
      "Epoch 13/50\n",
      "46/46 [==============================] - 185s 4s/step - loss: 0.3104 - accuracy: 0.8895\n",
      "Epoch 14/50\n",
      "46/46 [==============================] - 186s 4s/step - loss: 0.2843 - accuracy: 0.8936\n",
      "Epoch 15/50\n",
      "46/46 [==============================] - 185s 4s/step - loss: 0.2950 - accuracy: 0.8922\n",
      "Epoch 16/50\n",
      "46/46 [==============================] - 198s 4s/step - loss: 0.2561 - accuracy: 0.9094\n",
      "Epoch 17/50\n",
      "46/46 [==============================] - 206s 4s/step - loss: 0.2102 - accuracy: 0.9252\n",
      "Epoch 18/50\n",
      "46/46 [==============================] - 206s 4s/step - loss: 0.2701 - accuracy: 0.9039\n",
      "Epoch 19/50\n",
      "46/46 [==============================] - 212s 5s/step - loss: 0.2148 - accuracy: 0.9245\n",
      "Epoch 20/50\n",
      "46/46 [==============================] - 213s 5s/step - loss: 0.2559 - accuracy: 0.9170\n",
      "Epoch 21/50\n",
      "46/46 [==============================] - 212s 5s/step - loss: 0.2132 - accuracy: 0.9272\n",
      "Epoch 22/50\n",
      "46/46 [==============================] - 210s 5s/step - loss: 0.1969 - accuracy: 0.9266\n",
      "Epoch 23/50\n",
      "46/46 [==============================] - 201s 4s/step - loss: 0.1759 - accuracy: 0.9410\n",
      "Epoch 24/50\n",
      "46/46 [==============================] - 175s 4s/step - loss: 0.1712 - accuracy: 0.9430\n",
      "Epoch 25/50\n",
      "46/46 [==============================] - 130s 3s/step - loss: 0.1920 - accuracy: 0.9321\n",
      "Epoch 26/50\n",
      "46/46 [==============================] - 164s 4s/step - loss: 0.1657 - accuracy: 0.9444\n",
      "Epoch 27/50\n",
      "46/46 [==============================] - 238s 5s/step - loss: 0.1352 - accuracy: 0.9492\n",
      "Epoch 28/50\n",
      "46/46 [==============================] - 206s 4s/step - loss: 0.1485 - accuracy: 0.9458\n",
      "Epoch 29/50\n",
      "46/46 [==============================] - 197s 4s/step - loss: 0.1574 - accuracy: 0.9465\n",
      "Epoch 30/50\n",
      "46/46 [==============================] - 158s 3s/step - loss: 0.1407 - accuracy: 0.9526\n",
      "Epoch 31/50\n",
      "46/46 [==============================] - 141s 3s/step - loss: 0.1287 - accuracy: 0.9574\n",
      "Epoch 32/50\n",
      "46/46 [==============================] - 140s 3s/step - loss: 0.1276 - accuracy: 0.9561\n",
      "Epoch 33/50\n",
      "46/46 [==============================] - 146s 3s/step - loss: 0.1040 - accuracy: 0.9657\n",
      "Epoch 34/50\n",
      "46/46 [==============================] - 163s 4s/step - loss: 0.1132 - accuracy: 0.9588\n",
      "Epoch 35/50\n",
      "46/46 [==============================] - 120s 3s/step - loss: 0.1145 - accuracy: 0.9581\n",
      "Epoch 36/50\n",
      "46/46 [==============================] - 140s 3s/step - loss: 0.1134 - accuracy: 0.9588\n",
      "Epoch 37/50\n",
      "46/46 [==============================] - 145s 3s/step - loss: 0.0771 - accuracy: 0.9719\n",
      "Epoch 38/50\n",
      "46/46 [==============================] - 145s 3s/step - loss: 0.0798 - accuracy: 0.9705\n",
      "Epoch 39/50\n",
      "46/46 [==============================] - 143s 3s/step - loss: 0.0851 - accuracy: 0.9732\n",
      "Epoch 40/50\n",
      "46/46 [==============================] - 167s 4s/step - loss: 0.0856 - accuracy: 0.9698\n",
      "Epoch 41/50\n",
      "46/46 [==============================] - 148s 3s/step - loss: 0.1035 - accuracy: 0.9650\n",
      "Epoch 42/50\n",
      "46/46 [==============================] - 180s 4s/step - loss: 0.0917 - accuracy: 0.9691\n",
      "Epoch 43/50\n",
      "46/46 [==============================] - 143s 3s/step - loss: 0.0896 - accuracy: 0.9677\n",
      "Epoch 44/50\n",
      "46/46 [==============================] - 173s 4s/step - loss: 0.0673 - accuracy: 0.9767\n",
      "Epoch 45/50\n",
      "46/46 [==============================] - 149s 3s/step - loss: 0.0775 - accuracy: 0.9774\n",
      "Epoch 46/50\n",
      "46/46 [==============================] - 165s 4s/step - loss: 0.0859 - accuracy: 0.9732\n",
      "Epoch 47/50\n",
      "46/46 [==============================] - 167s 4s/step - loss: 0.0424 - accuracy: 0.9828\n",
      "Epoch 48/50\n",
      "46/46 [==============================] - 153s 3s/step - loss: 0.1174 - accuracy: 0.9657\n",
      "Epoch 49/50\n",
      "46/46 [==============================] - 189s 4s/step - loss: 0.0660 - accuracy: 0.9719\n",
      "Epoch 50/50\n",
      "46/46 [==============================] - 151s 3s/step - loss: 0.0670 - accuracy: 0.9787\n"
     ]
    },
    {
     "data": {
      "text/plain": [
       "<keras.callbacks.History at 0x1a67cf9cc70>"
      ]
     },
     "execution_count": 9,
     "metadata": {},
     "output_type": "execute_result"
    }
   ],
   "source": [
    "    \n",
    "model.compile(optimizer='adam',loss='categorical_crossentropy' ,metrics=['accuracy'])\n",
    "model.fit(train_generator,\n",
    "                         epochs = 50)"
   ]
  },
  {
   "cell_type": "code",
   "execution_count": null,
   "id": "c1db54fd",
   "metadata": {
    "pycharm": {
     "name": "#%%\n"
    }
   },
   "outputs": [],
   "source": []
  },
  {
   "cell_type": "code",
   "execution_count": null,
   "id": "d56e9c80",
   "metadata": {
    "pycharm": {
     "name": "#%%\n"
    }
   },
   "outputs": [],
   "source": []
  },
  {
   "cell_type": "code",
   "execution_count": null,
   "id": "859086ae",
   "metadata": {
    "pycharm": {
     "name": "#%%\n"
    }
   },
   "outputs": [],
   "source": []
  },
  {
   "cell_type": "code",
   "execution_count": null,
   "id": "797311ca",
   "metadata": {
    "pycharm": {
     "name": "#%%\n"
    }
   },
   "outputs": [],
   "source": []
  },
  {
   "cell_type": "code",
   "execution_count": 10,
   "id": "313071c2",
   "metadata": {
    "pycharm": {
     "name": "#%%\n"
    }
   },
   "outputs": [],
   "source": [
    "model.save('C:\\\\Users\\\\Admin\\\\machine learning\\\\machine learnig\\\\stage_ete_02\\\\test_matriaux\\\\save_test_resnet\\\\ResNet50_materiaux_verre.h5' )"
   ]
  },
  {
   "cell_type": "code",
   "execution_count": 11,
   "id": "305c1d28",
   "metadata": {
    "pycharm": {
     "name": "#%%\n"
    }
   },
   "outputs": [
    {
     "name": "stdout",
     "output_type": "stream",
     "text": [
      "323/323 - 58s - loss: 0.7981 - accuracy: 0.8390 - 58s/epoch - 181ms/step\n",
      "\n",
      "test accuracy: 0.8390092849731445\n"
     ]
    }
   ],
   "source": [
    "test_loss,test_acc = model.evaluate(test_generator, verbose=2)\n",
    "print('\\ntest accuracy:' , test_acc)"
   ]
  },
  {
   "cell_type": "code",
   "execution_count": 12,
   "id": "ddb9b2d0",
   "metadata": {
    "pycharm": {
     "name": "#%%\n"
    }
   },
   "outputs": [
    {
     "name": "stdout",
     "output_type": "stream",
     "text": [
      "1/1 [==============================] - 1s 1s/step\n",
      "1/1 [==============================] - 0s 101ms/step\n",
      "1/1 [==============================] - 0s 133ms/step\n",
      "1/1 [==============================] - 0s 125ms/step\n",
      "1/1 [==============================] - 0s 114ms/step\n",
      "1/1 [==============================] - 0s 127ms/step\n",
      "1/1 [==============================] - 0s 146ms/step\n",
      "1/1 [==============================] - 0s 137ms/step\n",
      "1/1 [==============================] - 0s 142ms/step\n",
      "1/1 [==============================] - 0s 133ms/step\n",
      "1/1 [==============================] - 0s 152ms/step\n",
      "1/1 [==============================] - 0s 163ms/step\n",
      "1/1 [==============================] - 0s 183ms/step\n",
      "1/1 [==============================] - 0s 181ms/step\n",
      "1/1 [==============================] - 0s 149ms/step\n",
      "1/1 [==============================] - 0s 155ms/step\n",
      "1/1 [==============================] - 0s 152ms/step\n",
      "1/1 [==============================] - 0s 145ms/step\n",
      "1/1 [==============================] - 0s 162ms/step\n",
      "1/1 [==============================] - 0s 146ms/step\n",
      "1/1 [==============================] - 0s 148ms/step\n",
      "1/1 [==============================] - 0s 154ms/step\n",
      "1/1 [==============================] - 0s 133ms/step\n",
      "1/1 [==============================] - 0s 150ms/step\n",
      "1/1 [==============================] - 0s 161ms/step\n",
      "1/1 [==============================] - 0s 158ms/step\n",
      "1/1 [==============================] - 0s 151ms/step\n",
      "1/1 [==============================] - 0s 156ms/step\n",
      "1/1 [==============================] - 0s 202ms/step\n",
      "1/1 [==============================] - 0s 207ms/step\n",
      "1/1 [==============================] - 0s 183ms/step\n",
      "1/1 [==============================] - 0s 160ms/step\n",
      "1/1 [==============================] - 0s 145ms/step\n",
      "1/1 [==============================] - 0s 165ms/step\n",
      "1/1 [==============================] - 0s 153ms/step\n",
      "1/1 [==============================] - 0s 148ms/step\n",
      "1/1 [==============================] - 0s 145ms/step\n",
      "1/1 [==============================] - 0s 161ms/step\n",
      "1/1 [==============================] - 0s 161ms/step\n",
      "1/1 [==============================] - 0s 182ms/step\n",
      "1/1 [==============================] - 0s 159ms/step\n",
      "1/1 [==============================] - 0s 297ms/step\n",
      "1/1 [==============================] - 0s 188ms/step\n",
      "1/1 [==============================] - 0s 197ms/step\n",
      "1/1 [==============================] - 0s 211ms/step\n",
      "1/1 [==============================] - 0s 185ms/step\n",
      "1/1 [==============================] - 0s 204ms/step\n",
      "1/1 [==============================] - 0s 192ms/step\n",
      "1/1 [==============================] - 0s 188ms/step\n",
      "1/1 [==============================] - 0s 173ms/step\n",
      "1/1 [==============================] - 0s 171ms/step\n",
      "1/1 [==============================] - 0s 183ms/step\n",
      "1/1 [==============================] - 0s 181ms/step\n",
      "1/1 [==============================] - 0s 163ms/step\n",
      "1/1 [==============================] - 0s 150ms/step\n",
      "1/1 [==============================] - 0s 146ms/step\n",
      "1/1 [==============================] - 0s 155ms/step\n",
      "1/1 [==============================] - 0s 162ms/step\n",
      "1/1 [==============================] - 0s 187ms/step\n",
      "1/1 [==============================] - 0s 157ms/step\n",
      "1/1 [==============================] - 0s 146ms/step\n",
      "1/1 [==============================] - 0s 210ms/step\n",
      "1/1 [==============================] - 0s 186ms/step\n",
      "1/1 [==============================] - 0s 164ms/step\n",
      "1/1 [==============================] - 0s 159ms/step\n",
      "1/1 [==============================] - 0s 155ms/step\n",
      "1/1 [==============================] - 0s 149ms/step\n",
      "1/1 [==============================] - 0s 165ms/step\n",
      "1/1 [==============================] - 0s 166ms/step\n",
      "1/1 [==============================] - 0s 155ms/step\n",
      "1/1 [==============================] - 0s 154ms/step\n",
      "1/1 [==============================] - 0s 139ms/step\n",
      "1/1 [==============================] - 0s 153ms/step\n",
      "1/1 [==============================] - 0s 146ms/step\n",
      "1/1 [==============================] - 0s 147ms/step\n",
      "1/1 [==============================] - 0s 150ms/step\n",
      "1/1 [==============================] - 0s 153ms/step\n",
      "1/1 [==============================] - 0s 165ms/step\n",
      "1/1 [==============================] - 0s 169ms/step\n",
      "1/1 [==============================] - 0s 149ms/step\n",
      "1/1 [==============================] - 0s 149ms/step\n",
      "1/1 [==============================] - 0s 149ms/step\n",
      "1/1 [==============================] - 0s 165ms/step\n",
      "1/1 [==============================] - 0s 158ms/step\n",
      "1/1 [==============================] - 0s 158ms/step\n",
      "1/1 [==============================] - 0s 150ms/step\n",
      "1/1 [==============================] - 0s 147ms/step\n",
      "1/1 [==============================] - 0s 155ms/step\n",
      "1/1 [==============================] - 0s 145ms/step\n",
      "1/1 [==============================] - 0s 147ms/step\n",
      "1/1 [==============================] - 0s 143ms/step\n",
      "1/1 [==============================] - 0s 138ms/step\n",
      "1/1 [==============================] - 0s 145ms/step\n",
      "1/1 [==============================] - 0s 188ms/step\n",
      "1/1 [==============================] - 0s 163ms/step\n",
      "1/1 [==============================] - 0s 161ms/step\n",
      "1/1 [==============================] - 0s 152ms/step\n",
      "1/1 [==============================] - 0s 173ms/step\n",
      "1/1 [==============================] - 0s 168ms/step\n",
      "1/1 [==============================] - 0s 157ms/step\n",
      "1/1 [==============================] - 0s 157ms/step\n",
      "1/1 [==============================] - 0s 162ms/step\n",
      "1/1 [==============================] - 0s 164ms/step\n",
      "1/1 [==============================] - 0s 168ms/step\n",
      "1/1 [==============================] - 0s 176ms/step\n",
      "1/1 [==============================] - 0s 159ms/step\n",
      "1/1 [==============================] - 0s 167ms/step\n",
      "1/1 [==============================] - 0s 179ms/step\n",
      "1/1 [==============================] - 0s 156ms/step\n",
      "1/1 [==============================] - 0s 152ms/step\n",
      "1/1 [==============================] - 0s 147ms/step\n",
      "1/1 [==============================] - 0s 121ms/step\n",
      "1/1 [==============================] - 0s 125ms/step\n",
      "1/1 [==============================] - 0s 105ms/step\n",
      "1/1 [==============================] - 0s 113ms/step\n",
      "1/1 [==============================] - 0s 118ms/step\n",
      "1/1 [==============================] - 0s 117ms/step\n",
      "1/1 [==============================] - 0s 120ms/step\n",
      "1/1 [==============================] - 0s 114ms/step\n",
      "1/1 [==============================] - 0s 119ms/step\n",
      "1/1 [==============================] - 0s 114ms/step\n",
      "1/1 [==============================] - 0s 100ms/step\n",
      "1/1 [==============================] - 0s 123ms/step\n",
      "1/1 [==============================] - 0s 119ms/step\n",
      "1/1 [==============================] - 0s 101ms/step\n",
      "1/1 [==============================] - 0s 118ms/step\n",
      "1/1 [==============================] - 0s 111ms/step\n",
      "1/1 [==============================] - 0s 125ms/step\n",
      "1/1 [==============================] - 0s 122ms/step\n",
      "1/1 [==============================] - 0s 112ms/step\n",
      "1/1 [==============================] - 0s 119ms/step\n",
      "1/1 [==============================] - 0s 103ms/step\n",
      "1/1 [==============================] - 0s 115ms/step\n",
      "1/1 [==============================] - 0s 99ms/step\n",
      "1/1 [==============================] - 0s 125ms/step\n",
      "1/1 [==============================] - 0s 124ms/step\n",
      "1/1 [==============================] - 0s 129ms/step\n",
      "1/1 [==============================] - 0s 134ms/step\n",
      "1/1 [==============================] - 0s 143ms/step\n",
      "1/1 [==============================] - 0s 114ms/step\n",
      "1/1 [==============================] - 0s 99ms/step\n",
      "1/1 [==============================] - 0s 176ms/step\n",
      "1/1 [==============================] - 0s 141ms/step\n",
      "1/1 [==============================] - 0s 132ms/step\n",
      "1/1 [==============================] - 0s 117ms/step\n",
      "1/1 [==============================] - 0s 119ms/step\n",
      "1/1 [==============================] - 0s 124ms/step\n",
      "1/1 [==============================] - 0s 113ms/step\n",
      "1/1 [==============================] - 0s 139ms/step\n",
      "1/1 [==============================] - 0s 161ms/step\n",
      "1/1 [==============================] - 0s 158ms/step\n",
      "1/1 [==============================] - 0s 118ms/step\n",
      "1/1 [==============================] - 0s 126ms/step\n",
      "1/1 [==============================] - 0s 111ms/step\n",
      "1/1 [==============================] - 0s 120ms/step\n",
      "1/1 [==============================] - 0s 120ms/step\n",
      "1/1 [==============================] - 0s 129ms/step\n",
      "1/1 [==============================] - 0s 113ms/step\n",
      "1/1 [==============================] - 0s 119ms/step\n",
      "1/1 [==============================] - 0s 105ms/step\n",
      "1/1 [==============================] - 0s 116ms/step\n",
      "1/1 [==============================] - 0s 113ms/step\n",
      "1/1 [==============================] - 0s 125ms/step\n",
      "1/1 [==============================] - 0s 123ms/step\n",
      "1/1 [==============================] - 0s 112ms/step\n",
      "1/1 [==============================] - 0s 114ms/step\n",
      "1/1 [==============================] - 0s 122ms/step\n",
      "1/1 [==============================] - 0s 129ms/step\n",
      "1/1 [==============================] - 0s 147ms/step\n",
      "1/1 [==============================] - 0s 141ms/step\n",
      "1/1 [==============================] - 0s 128ms/step\n",
      "1/1 [==============================] - 0s 126ms/step\n",
      "1/1 [==============================] - 0s 142ms/step\n",
      "1/1 [==============================] - 0s 133ms/step\n",
      "1/1 [==============================] - 0s 135ms/step\n",
      "1/1 [==============================] - 0s 151ms/step\n",
      "1/1 [==============================] - 0s 133ms/step\n",
      "1/1 [==============================] - 0s 131ms/step\n",
      "1/1 [==============================] - 0s 131ms/step\n",
      "1/1 [==============================] - 0s 131ms/step\n",
      "1/1 [==============================] - 0s 132ms/step\n",
      "1/1 [==============================] - 0s 137ms/step\n",
      "1/1 [==============================] - 0s 120ms/step\n",
      "1/1 [==============================] - 0s 120ms/step\n",
      "1/1 [==============================] - 0s 120ms/step\n",
      "1/1 [==============================] - 0s 118ms/step\n",
      "1/1 [==============================] - 0s 121ms/step\n",
      "1/1 [==============================] - 0s 124ms/step\n",
      "1/1 [==============================] - 0s 117ms/step\n",
      "1/1 [==============================] - 0s 120ms/step\n",
      "1/1 [==============================] - 0s 118ms/step\n",
      "1/1 [==============================] - 0s 130ms/step\n",
      "1/1 [==============================] - 0s 125ms/step\n",
      "1/1 [==============================] - 0s 144ms/step\n",
      "1/1 [==============================] - 0s 115ms/step\n",
      "1/1 [==============================] - 0s 122ms/step\n",
      "1/1 [==============================] - 0s 137ms/step\n",
      "1/1 [==============================] - 0s 133ms/step\n",
      "1/1 [==============================] - 0s 135ms/step\n",
      "1/1 [==============================] - 0s 138ms/step\n",
      "1/1 [==============================] - 0s 143ms/step\n",
      "1/1 [==============================] - 0s 147ms/step\n",
      "1/1 [==============================] - 0s 140ms/step\n",
      "1/1 [==============================] - 0s 141ms/step\n",
      "1/1 [==============================] - 0s 146ms/step\n",
      "1/1 [==============================] - 0s 146ms/step\n",
      "1/1 [==============================] - 0s 141ms/step\n",
      "1/1 [==============================] - 0s 148ms/step\n",
      "1/1 [==============================] - 0s 152ms/step\n",
      "1/1 [==============================] - 0s 190ms/step\n",
      "1/1 [==============================] - 0s 151ms/step\n",
      "1/1 [==============================] - 0s 140ms/step\n",
      "1/1 [==============================] - 0s 142ms/step\n",
      "1/1 [==============================] - 0s 136ms/step\n",
      "1/1 [==============================] - 0s 129ms/step\n",
      "1/1 [==============================] - 0s 134ms/step\n",
      "1/1 [==============================] - 0s 133ms/step\n",
      "1/1 [==============================] - 0s 126ms/step\n",
      "1/1 [==============================] - 0s 131ms/step\n",
      "1/1 [==============================] - 0s 131ms/step\n",
      "1/1 [==============================] - 0s 127ms/step\n",
      "1/1 [==============================] - 0s 132ms/step\n",
      "1/1 [==============================] - 0s 138ms/step\n",
      "1/1 [==============================] - 0s 130ms/step\n",
      "1/1 [==============================] - 0s 127ms/step\n",
      "1/1 [==============================] - 0s 120ms/step\n",
      "1/1 [==============================] - 0s 120ms/step\n",
      "1/1 [==============================] - 0s 145ms/step\n",
      "1/1 [==============================] - 0s 153ms/step\n",
      "1/1 [==============================] - 0s 120ms/step\n",
      "1/1 [==============================] - 0s 148ms/step\n",
      "1/1 [==============================] - 0s 122ms/step\n",
      "1/1 [==============================] - 0s 136ms/step\n",
      "1/1 [==============================] - 0s 127ms/step\n",
      "1/1 [==============================] - 0s 127ms/step\n",
      "1/1 [==============================] - 0s 121ms/step\n",
      "1/1 [==============================] - 0s 120ms/step\n",
      "1/1 [==============================] - 0s 142ms/step\n",
      "1/1 [==============================] - 0s 135ms/step\n",
      "1/1 [==============================] - 0s 153ms/step\n",
      "1/1 [==============================] - 0s 143ms/step\n",
      "1/1 [==============================] - 0s 138ms/step\n",
      "1/1 [==============================] - 0s 137ms/step\n",
      "1/1 [==============================] - 0s 137ms/step\n",
      "1/1 [==============================] - 0s 148ms/step\n",
      "1/1 [==============================] - 0s 154ms/step\n",
      "1/1 [==============================] - 0s 142ms/step\n",
      "1/1 [==============================] - 0s 129ms/step\n",
      "1/1 [==============================] - 0s 137ms/step\n",
      "1/1 [==============================] - 0s 133ms/step\n",
      "1/1 [==============================] - 0s 158ms/step\n",
      "1/1 [==============================] - 0s 153ms/step\n",
      "1/1 [==============================] - 0s 142ms/step\n",
      "1/1 [==============================] - 0s 163ms/step\n",
      "1/1 [==============================] - 0s 158ms/step\n",
      "1/1 [==============================] - 0s 141ms/step\n",
      "1/1 [==============================] - 0s 153ms/step\n",
      "1/1 [==============================] - 0s 139ms/step\n",
      "1/1 [==============================] - 0s 139ms/step\n",
      "1/1 [==============================] - 0s 142ms/step\n",
      "1/1 [==============================] - 0s 144ms/step\n",
      "1/1 [==============================] - 0s 145ms/step\n",
      "1/1 [==============================] - 0s 133ms/step\n",
      "1/1 [==============================] - 0s 128ms/step\n",
      "1/1 [==============================] - 0s 135ms/step\n",
      "1/1 [==============================] - 0s 131ms/step\n",
      "1/1 [==============================] - 0s 134ms/step\n",
      "1/1 [==============================] - 0s 139ms/step\n",
      "1/1 [==============================] - 0s 128ms/step\n",
      "1/1 [==============================] - 0s 131ms/step\n",
      "1/1 [==============================] - 0s 133ms/step\n",
      "1/1 [==============================] - 0s 128ms/step\n",
      "1/1 [==============================] - 0s 140ms/step\n",
      "1/1 [==============================] - 0s 140ms/step\n",
      "1/1 [==============================] - 0s 134ms/step\n",
      "1/1 [==============================] - 0s 123ms/step\n",
      "1/1 [==============================] - 0s 131ms/step\n",
      "1/1 [==============================] - 0s 139ms/step\n",
      "1/1 [==============================] - 0s 133ms/step\n",
      "1/1 [==============================] - 0s 131ms/step\n",
      "1/1 [==============================] - 0s 134ms/step\n",
      "1/1 [==============================] - 0s 139ms/step\n",
      "1/1 [==============================] - 0s 142ms/step\n",
      "1/1 [==============================] - 0s 140ms/step\n",
      "1/1 [==============================] - 0s 137ms/step\n",
      "1/1 [==============================] - 0s 150ms/step\n",
      "1/1 [==============================] - 0s 167ms/step\n",
      "1/1 [==============================] - 0s 155ms/step\n",
      "1/1 [==============================] - 0s 136ms/step\n",
      "1/1 [==============================] - 0s 135ms/step\n",
      "1/1 [==============================] - 0s 161ms/step\n",
      "1/1 [==============================] - 0s 134ms/step\n",
      "1/1 [==============================] - 0s 131ms/step\n",
      "1/1 [==============================] - 0s 125ms/step\n",
      "1/1 [==============================] - 0s 134ms/step\n",
      "1/1 [==============================] - 0s 129ms/step\n",
      "1/1 [==============================] - 0s 141ms/step\n",
      "1/1 [==============================] - 0s 138ms/step\n",
      "1/1 [==============================] - 0s 139ms/step\n",
      "1/1 [==============================] - 0s 135ms/step\n",
      "1/1 [==============================] - 0s 128ms/step\n",
      "1/1 [==============================] - 0s 150ms/step\n",
      "1/1 [==============================] - 0s 151ms/step\n",
      "1/1 [==============================] - 0s 141ms/step\n",
      "1/1 [==============================] - 0s 138ms/step\n",
      "1/1 [==============================] - 0s 152ms/step\n",
      "1/1 [==============================] - 0s 155ms/step\n",
      "1/1 [==============================] - 0s 169ms/step\n"
     ]
    },
    {
     "name": "stdout",
     "output_type": "stream",
     "text": [
      "1/1 [==============================] - 0s 165ms/step\n",
      "1/1 [==============================] - 0s 167ms/step\n",
      "1/1 [==============================] - 0s 154ms/step\n",
      "1/1 [==============================] - 0s 159ms/step\n",
      "1/1 [==============================] - 0s 162ms/step\n",
      "1/1 [==============================] - 0s 148ms/step\n",
      "1/1 [==============================] - 0s 153ms/step\n",
      "1/1 [==============================] - 0s 168ms/step\n",
      "1/1 [==============================] - 0s 171ms/step\n",
      "1/1 [==============================] - 0s 182ms/step\n",
      "1/1 [==============================] - 0s 165ms/step\n",
      "1/1 [==============================] - 0s 190ms/step\n",
      "1/1 [==============================] - 0s 171ms/step\n",
      "1/1 [==============================] - 0s 162ms/step\n",
      "1/1 [==============================] - 0s 159ms/step\n"
     ]
    },
    {
     "data": {
      "image/png": "[encoded data removed]",
      "text/plain": [
       "<Figure size 432x288 with 2 Axes>"
      ]
     },
     "metadata": {
      "needs_background": "light"
     },
     "output_type": "display_data"
    },
    {
     "name": "stdout",
     "output_type": "stream",
     "text": [
      "test accuracy:82.04334365325077\n"
     ]
    }
   ],
   "source": [
    "model = tf.keras.models.load_model('C:\\\\Users\\\\Admin\\\\machine learning\\\\machine learnig\\\\stage_ete_02\\\\test_matriaux\\\\save_test_resnet\\\\ResNet50_materiaux_verre.h5')\n",
    "filenames = test_generator.filenames\n",
    "nb_samples = len(test_generator)\n",
    "y_prob=[]\n",
    "y_act=[]\n",
    "test_generator.reset()\n",
    "for _ in range(nb_samples):\n",
    "    X_test,Y_test = test_generator.next()\n",
    "    y_prob.append(model.predict(X_test))\n",
    "    y_act.append(Y_test)\n",
    "\n",
    "predicted_class = [list(train_generator.class_indices.keys())[i.argmax()] for i in y_prob]\n",
    "actual_class = [list(train_generator.class_indices.keys())[i.argmax()]for i in y_act]\n",
    "\n",
    "out_df = pd.DataFrame(np.vstack([predicted_class,actual_class]).T,columns=['predicted_class','actual_class'])\n",
    "confusion_matrix = pd.crosstab(out_df['actual_class'],out_df['predicted_class'],rownames=['Actual'],colnames=['Predicted'])\n",
    "\n",
    "sns.heatmap(confusion_matrix,cmap='Blues',annot=True,fmt='d')\n",
    "plt.show()\n",
    "print('test accuracy:{}'.format((np.diagonal(confusion_matrix).sum()/confusion_matrix.sum().sum()*100)))"
   ]
  },
  {
   "cell_type": "code",
   "execution_count": null,
   "id": "7e139d21",
   "metadata": {
    "pycharm": {
     "name": "#%%\n"
    }
   },
   "outputs": [],
   "source": [
    "#84"
   ]
  },
  {
   "cell_type": "code",
   "execution_count": null,
   "id": "fff63e22",
   "metadata": {
    "pycharm": {
     "name": "#%%\n"
    }
   },
   "outputs": [],
   "source": [
    "#################################################################"
   ]
  },
  {
   "cell_type": "code",
   "execution_count": 7,
   "id": "0ef97417",
   "metadata": {
    "pycharm": {
     "name": "#%%\n"
    }
   },
   "outputs": [],
   "source": [
    "base_model2 = tf.keras.applications.ResNet50V2(include_top=False,weights='imagenet',input_shape=(img_height,img_width,3))\n",
    "\n",
    "x = base_model2.output\n",
    "x = GlobalAveragePooling2D()(x)\n",
    "x = Dense(1024,activation='relu')(x)\n",
    "x = Dense(512,activation='relu')(x)\n",
    "x = Dense(256,activation='relu')(x)\n",
    "x = Dense(64,activation='relu')(x)\n",
    "\n",
    "for layer in base_model2.layers:\n",
    "    layer.trainable=False\n",
    "                     \n",
    "predictions = Dense(train_generator.num_classes,activation='softmax')(x)\n",
    "model2 = Model(inputs=base_model2.input ,outputs=predictions)\n",
    "\n"
   ]
  },
  {
   "cell_type": "code",
   "execution_count": 8,
   "id": "6f7f6806",
   "metadata": {
    "pycharm": {
     "name": "#%%\n"
    }
   },
   "outputs": [
    {
     "name": "stdout",
     "output_type": "stream",
     "text": [
      "Epoch 1/35\n",
      "46/46 [==============================] - 158s 3s/step - loss: 25.7101 - accuracy: 0.6156\n",
      "Epoch 2/35\n",
      "46/46 [==============================] - 161s 4s/step - loss: 2.9808 - accuracy: 0.7069\n",
      "Epoch 3/35\n",
      "46/46 [==============================] - 164s 4s/step - loss: 1.7734 - accuracy: 0.7543\n",
      "Epoch 4/35\n",
      "46/46 [==============================] - 169s 4s/step - loss: 0.9691 - accuracy: 0.7515\n",
      "Epoch 5/35\n",
      "46/46 [==============================] - 166s 4s/step - loss: 0.9332 - accuracy: 0.7694\n",
      "Epoch 6/35\n",
      "46/46 [==============================] - 168s 4s/step - loss: 0.7059 - accuracy: 0.7859\n",
      "Epoch 7/35\n",
      "46/46 [==============================] - 167s 4s/step - loss: 0.6717 - accuracy: 0.8016\n",
      "Epoch 8/35\n",
      "46/46 [==============================] - 167s 4s/step - loss: 0.6500 - accuracy: 0.8037\n",
      "Epoch 9/35\n",
      "46/46 [==============================] - 170s 4s/step - loss: 0.6456 - accuracy: 0.7968\n",
      "Epoch 10/35\n",
      "46/46 [==============================] - 168s 4s/step - loss: 0.6000 - accuracy: 0.8113\n",
      "Epoch 11/35\n",
      "46/46 [==============================] - 169s 4s/step - loss: 0.6088 - accuracy: 0.8023\n",
      "Epoch 12/35\n",
      "46/46 [==============================] - 171s 4s/step - loss: 0.5307 - accuracy: 0.8229\n",
      "Epoch 13/35\n",
      "46/46 [==============================] - 167s 4s/step - loss: 0.5703 - accuracy: 0.8113\n",
      "Epoch 14/35\n",
      "46/46 [==============================] - 169s 4s/step - loss: 0.5694 - accuracy: 0.8174\n",
      "Epoch 15/35\n",
      "46/46 [==============================] - 167s 4s/step - loss: 0.5749 - accuracy: 0.8119\n",
      "Epoch 16/35\n",
      "46/46 [==============================] - 168s 4s/step - loss: 0.5681 - accuracy: 0.8099\n",
      "Epoch 17/35\n",
      "46/46 [==============================] - 167s 4s/step - loss: 0.5581 - accuracy: 0.8140\n",
      "Epoch 18/35\n",
      "46/46 [==============================] - 166s 4s/step - loss: 0.5552 - accuracy: 0.8236\n",
      "Epoch 19/35\n",
      "46/46 [==============================] - 169s 4s/step - loss: 0.5520 - accuracy: 0.8188\n",
      "Epoch 20/35\n",
      "46/46 [==============================] - 168s 4s/step - loss: 0.5434 - accuracy: 0.8222\n",
      "Epoch 21/35\n",
      "46/46 [==============================] - 169s 4s/step - loss: 0.5130 - accuracy: 0.8277\n",
      "Epoch 22/35\n",
      "46/46 [==============================] - 167s 4s/step - loss: 0.5227 - accuracy: 0.8346\n",
      "Epoch 23/35\n",
      "46/46 [==============================] - 167s 4s/step - loss: 0.5179 - accuracy: 0.8270\n",
      "Epoch 24/35\n",
      "46/46 [==============================] - 168s 4s/step - loss: 0.5277 - accuracy: 0.8277\n",
      "Epoch 25/35\n",
      "46/46 [==============================] - 166s 4s/step - loss: 0.5081 - accuracy: 0.8312\n",
      "Epoch 26/35\n",
      "46/46 [==============================] - 169s 4s/step - loss: 0.5076 - accuracy: 0.8346\n",
      "Epoch 27/35\n",
      "46/46 [==============================] - 167s 4s/step - loss: 0.5118 - accuracy: 0.8373\n",
      "Epoch 28/35\n",
      "46/46 [==============================] - 166s 4s/step - loss: 0.5224 - accuracy: 0.8305\n",
      "Epoch 29/35\n",
      "46/46 [==============================] - 168s 4s/step - loss: 0.5268 - accuracy: 0.8318\n",
      "Epoch 30/35\n",
      "46/46 [==============================] - 166s 4s/step - loss: 0.4956 - accuracy: 0.8346\n",
      "Epoch 31/35\n",
      "46/46 [==============================] - 167s 4s/step - loss: 0.5115 - accuracy: 0.8332\n",
      "Epoch 32/35\n",
      "46/46 [==============================] - 167s 4s/step - loss: 0.5203 - accuracy: 0.8284\n",
      "Epoch 33/35\n",
      "46/46 [==============================] - 166s 4s/step - loss: 0.5419 - accuracy: 0.8167\n",
      "Epoch 34/35\n",
      "46/46 [==============================] - 168s 4s/step - loss: 0.5227 - accuracy: 0.8332\n",
      "Epoch 35/35\n",
      "46/46 [==============================] - 166s 4s/step - loss: 0.5167 - accuracy: 0.8325\n"
     ]
    },
    {
     "data": {
      "text/plain": [
       "<keras.callbacks.History at 0x2249a650100>"
      ]
     },
     "execution_count": 8,
     "metadata": {},
     "output_type": "execute_result"
    }
   ],
   "source": [
    "    \n",
    "model2.compile(optimizer='adam',loss='categorical_crossentropy' ,metrics=['accuracy'])\n",
    "model2.fit(train_generator,\n",
    "                         epochs = 35)"
   ]
  },
  {
   "cell_type": "code",
   "execution_count": 9,
   "id": "a642eac0",
   "metadata": {
    "pycharm": {
     "name": "#%%\n"
    }
   },
   "outputs": [
    {
     "name": "stdout",
     "output_type": "stream",
     "text": [
      "11/11 - 38s - loss: 0.4932 - accuracy: 0.8545 - 38s/epoch - 3s/step\n",
      "\n",
      "test accuracy: 0.8544891476631165\n"
     ]
    }
   ],
   "source": [
    "test_loss,test_acc = model2.evaluate(test_generator, verbose=2)\n",
    "print('\\ntest accuracy:' , test_acc)"
   ]
  },
  {
   "cell_type": "code",
   "execution_count": 10,
   "id": "2af4b4ef",
   "metadata": {
    "pycharm": {
     "name": "#%%\n"
    }
   },
   "outputs": [],
   "source": [
    "model2.save('C:\\\\Users\\\\Admin\\\\OneDrive\\\\machine learning\\\\machine learnig\\\\stage_ete_02\\\\test_matriaux\\\\save_test\\\\Vgg16_p.h5' )"
   ]
  },
  {
   "cell_type": "code",
   "execution_count": 11,
   "id": "15b6ecc8",
   "metadata": {
    "pycharm": {
     "name": "#%%\n"
    }
   },
   "outputs": [
    {
     "name": "stdout",
     "output_type": "stream",
     "text": [
      "1/1 [==============================] - 4s 4s/step\n",
      "1/1 [==============================] - 3s 3s/step\n",
      "1/1 [==============================] - 3s 3s/step\n",
      "1/1 [==============================] - 3s 3s/step\n",
      "1/1 [==============================] - 3s 3s/step\n",
      "1/1 [==============================] - 3s 3s/step\n",
      "1/1 [==============================] - 3s 3s/step\n",
      "1/1 [==============================] - 3s 3s/step\n",
      "1/1 [==============================] - 2s 2s/step\n",
      "1/1 [==============================] - 2s 2s/step\n",
      "1/1 [==============================] - 1s 1s/step\n"
     ]
    },
    {
     "ename": "IndexError",
     "evalue": "list index out of range",
     "output_type": "error",
     "traceback": [
      "\u001b[1;31m---------------------------------------------------------------------------\u001b[0m",
      "\u001b[1;31mIndexError\u001b[0m                                Traceback (most recent call last)",
      "Input \u001b[1;32mIn [11]\u001b[0m, in \u001b[0;36m<cell line: 12>\u001b[1;34m()\u001b[0m\n\u001b[0;32m      9\u001b[0m     y_prob\u001b[38;5;241m.\u001b[39mappend(model2\u001b[38;5;241m.\u001b[39mpredict(X_test))\n\u001b[0;32m     10\u001b[0m     y_act\u001b[38;5;241m.\u001b[39mappend(Y_test)\n\u001b[1;32m---> 12\u001b[0m predicted_class \u001b[38;5;241m=\u001b[39m [\u001b[38;5;28mlist\u001b[39m(train_generator\u001b[38;5;241m.\u001b[39mclass_indices\u001b[38;5;241m.\u001b[39mkeys())[i\u001b[38;5;241m.\u001b[39margmax()] \u001b[38;5;28;01mfor\u001b[39;00m i \u001b[38;5;129;01min\u001b[39;00m y_prob]\n\u001b[0;32m     13\u001b[0m actual_class \u001b[38;5;241m=\u001b[39m [\u001b[38;5;28mlist\u001b[39m(train_generator\u001b[38;5;241m.\u001b[39mclass_indices\u001b[38;5;241m.\u001b[39mkeys())[i\u001b[38;5;241m.\u001b[39margmax()]\u001b[38;5;28;01mfor\u001b[39;00m i \u001b[38;5;129;01min\u001b[39;00m y_act]\n\u001b[0;32m     15\u001b[0m out_df \u001b[38;5;241m=\u001b[39m pd\u001b[38;5;241m.\u001b[39mDataFrame(np\u001b[38;5;241m.\u001b[39mvstack([predicted_class,actual_class])\u001b[38;5;241m.\u001b[39mT,columns\u001b[38;5;241m=\u001b[39m[\u001b[38;5;124m'\u001b[39m\u001b[38;5;124mpredicted_class\u001b[39m\u001b[38;5;124m'\u001b[39m,\u001b[38;5;124m'\u001b[39m\u001b[38;5;124mactual_class\u001b[39m\u001b[38;5;124m'\u001b[39m])\n",
      "Input \u001b[1;32mIn [11]\u001b[0m, in \u001b[0;36m<listcomp>\u001b[1;34m(.0)\u001b[0m\n\u001b[0;32m      9\u001b[0m     y_prob\u001b[38;5;241m.\u001b[39mappend(model2\u001b[38;5;241m.\u001b[39mpredict(X_test))\n\u001b[0;32m     10\u001b[0m     y_act\u001b[38;5;241m.\u001b[39mappend(Y_test)\n\u001b[1;32m---> 12\u001b[0m predicted_class \u001b[38;5;241m=\u001b[39m [\u001b[38;5;28;43mlist\u001b[39;49m\u001b[43m(\u001b[49m\u001b[43mtrain_generator\u001b[49m\u001b[38;5;241;43m.\u001b[39;49m\u001b[43mclass_indices\u001b[49m\u001b[38;5;241;43m.\u001b[39;49m\u001b[43mkeys\u001b[49m\u001b[43m(\u001b[49m\u001b[43m)\u001b[49m\u001b[43m)\u001b[49m\u001b[43m[\u001b[49m\u001b[43mi\u001b[49m\u001b[38;5;241;43m.\u001b[39;49m\u001b[43margmax\u001b[49m\u001b[43m(\u001b[49m\u001b[43m)\u001b[49m\u001b[43m]\u001b[49m \u001b[38;5;28;01mfor\u001b[39;00m i \u001b[38;5;129;01min\u001b[39;00m y_prob]\n\u001b[0;32m     13\u001b[0m actual_class \u001b[38;5;241m=\u001b[39m [\u001b[38;5;28mlist\u001b[39m(train_generator\u001b[38;5;241m.\u001b[39mclass_indices\u001b[38;5;241m.\u001b[39mkeys())[i\u001b[38;5;241m.\u001b[39margmax()]\u001b[38;5;28;01mfor\u001b[39;00m i \u001b[38;5;129;01min\u001b[39;00m y_act]\n\u001b[0;32m     15\u001b[0m out_df \u001b[38;5;241m=\u001b[39m pd\u001b[38;5;241m.\u001b[39mDataFrame(np\u001b[38;5;241m.\u001b[39mvstack([predicted_class,actual_class])\u001b[38;5;241m.\u001b[39mT,columns\u001b[38;5;241m=\u001b[39m[\u001b[38;5;124m'\u001b[39m\u001b[38;5;124mpredicted_class\u001b[39m\u001b[38;5;124m'\u001b[39m,\u001b[38;5;124m'\u001b[39m\u001b[38;5;124mactual_class\u001b[39m\u001b[38;5;124m'\u001b[39m])\n",
      "\u001b[1;31mIndexError\u001b[0m: list index out of range"
     ]
    }
   ],
   "source": [
    "model2 = tf.keras.models.load_model('C:\\\\Users\\\\Admin\\\\OneDrive\\\\machine learning\\\\machine learnig\\\\stage_ete_02\\\\test_matriaux\\\\save_test\\\\Vgg16_p.h5')\n",
    "filenames = test_generator.filenames\n",
    "nb_samples = len(test_generator)\n",
    "y_prob=[]\n",
    "y_act=[]\n",
    "test_generator.reset()\n",
    "for _ in range(nb_samples):\n",
    "    X_test,Y_test = test_generator.next()\n",
    "    y_prob.append(model2.predict(X_test))\n",
    "    y_act.append(Y_test)\n",
    "\n",
    "predicted_class = [list(train_generator.class_indices.keys())[i.argmax()] for i in y_prob]\n",
    "actual_class = [list(train_generator.class_indices.keys())[i.argmax()]for i in y_act]\n",
    "\n",
    "out_df = pd.DataFrame(np.vstack([predicted_class,actual_class]).T,columns=['predicted_class','actual_class'])\n",
    "confusion_matrix = pd.crosstab(out_df['actual_class'],out_df['predicted_class'],rownames=['Actual'],colnames=['Predicted'])\n",
    "\n",
    "sns.heatmap(confusion_matrix,cmap='Blues',annot=True,fmt='d')\n",
    "plt.show()\n",
    "print('test accuracy:{}'.format((np.diagonal(confusion_matrix).sum()/confusion_matrix.sum().sum()*100)))"
   ]
  },
  {
   "cell_type": "code",
   "execution_count": null,
   "id": "376ac134",
   "metadata": {
    "pycharm": {
     "name": "#%%\n"
    }
   },
   "outputs": [],
   "source": [
    "#82\n",
    "##########################"
   ]
  },
  {
   "cell_type": "code",
   "execution_count": null,
   "id": "ce3038bd",
   "metadata": {
    "pycharm": {
     "name": "#%%\n"
    }
   },
   "outputs": [],
   "source": []
  },
  {
   "cell_type": "code",
   "execution_count": null,
   "id": "6010bf37",
   "metadata": {
    "pycharm": {
     "name": "#%%\n"
    }
   },
   "outputs": [],
   "source": []
  },
  {
   "cell_type": "code",
   "execution_count": null,
   "id": "20860fb6",
   "metadata": {
    "pycharm": {
     "name": "#%%\n"
    }
   },
   "outputs": [],
   "source": []
  }
 ],
 "metadata": {
  "kernelspec": {
   "display_name": "Python 3 (ipykernel)",
   "language": "python",
   "name": "python3"
  },
  "language_info": {
   "codemirror_mode": {
    "name": "ipython",
    "version": 3
   },
   "file_extension": ".py",
   "mimetype": "text/x-python",
   "name": "python",
   "nbconvert_exporter": "python",
   "pygments_lexer": "ipython3",
   "version": "3.9.12"
  }
 },
 "nbformat": 4,
 "nbformat_minor": 5
}
