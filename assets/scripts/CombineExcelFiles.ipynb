{
 "cells": [
  {
   "cell_type": "code",
   "execution_count": 1,
   "id": "bf9e47bc",
   "metadata": {
    "pycharm": {
     "name": "#%%\n"
    }
   },
   "outputs": [],
   "source": [
    "import pandas as pd\n",
    "\n",
    "# Read Excel files\n",
    "df1 = pd.read_excel('datasets\\lunette_2.xlsx')\n",
    "df2 = pd.read_excel('datasets\\lunette_1.xlsx')\n",
    "df3 = pd.read_excel('datasets\\lunette_3.xlsx')\n",
    "df4 = pd.read_excel('datasets\\lunette_5.xlsx')\n",
    "df5 = pd.read_excel('datasets\\lunette_8.xlsx')\n",
    "df6 = pd.read_excel('datasets\\lunette_9.xlsx')\n",
    "\n",
    "# Concatenate DataFrames\n",
    "df = pd.concat([df1, df2, df3, df4, df5, df6], ignore_index=True)\n",
    "\n",
    "# Write to a new Excel file\n",
    "eng = pd.ExcelWriter(\"C:\\\\Users\\\\Admin\\\\machine learning\\\\machine learnig\\\\stage_ete_02\\\\dataset.xlsx\")\n",
    "df.to_excel(eng, 'feuille1')\n",
    "eng.save()"
   ]
  }
 ],
 "metadata": {
  "kernelspec": {
   "display_name": "Python 3 (ipykernel)",
   "language": "python",
   "name": "python3"
  },
  "language_info": {
   "codemirror_mode": {
    "name": "ipython",
    "version": 3
   },
   "file_extension": ".py",
   "mimetype": "text/x-python",
   "name": "python",
   "nbconvert_exporter": "python",
   "pygments_lexer": "ipython3",
   "version": "3.9.12"
  }
 },
 "nbformat": 4,
 "nbformat_minor": 5
}