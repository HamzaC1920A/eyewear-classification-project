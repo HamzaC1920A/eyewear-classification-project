{
 "cells": [
  {
   "cell_type": "code",
   "execution_count": 3,
   "id": "146fb182",
   "metadata": {
    "pycharm": {
     "name": "#%%\n"
    }
   },
   "outputs": [],
   "source": [
    "from tensorflow.keras.layers import Conv2D,Flatten,Dense,MaxPool2D,BatchNormalization,GlobalAveragePooling2D,Dropout\n",
    "from tensorflow.keras.applications.resnet50 import preprocess_input,decode_predictions\n",
    "from tensorflow.keras.preprocessing.image import ImageDataGenerator,load_img\n",
    "from tensorflow.keras.applications.resnet50 import ResNet50\n",
    "from tensorflow.keras.preprocessing import image\n",
    "from tensorflow.keras.models import Sequential\n",
    "from tensorflow.keras.models import Model\n",
    "import matplotlib.pyplot as plt\n",
    "import numpy as np\n",
    "import pandas as pd\n",
    "import seaborn as sns\n",
    "import tensorflow as tf\n",
    "import PIL\n",
    "from tensorflow.keras.optimizers import Adam\n",
    "import warnings\n",
    "warnings.filterwarnings('ignore')"
   ]
  },
  {
   "cell_type": "code",
   "execution_count": null,
   "id": "bc5b968f",
   "metadata": {},
   "outputs": [],
   "source": []
  },
  {
   "cell_type": "code",
   "execution_count": null,
   "id": "4e54263c",
   "metadata": {},
   "outputs": [],
   "source": []
  },
  {
   "cell_type": "code",
   "execution_count": 4,
   "id": "8b7f329b",
   "metadata": {
    "pycharm": {
     "name": "#%%\n"
    }
   },
   "outputs": [],
   "source": [
    "img_height,img_width = (224,224)\n",
    "batch_size = 32\n",
    "train_data_dir = r\"C:\\\\Users\\\\Admin\\\\machine learning\\\\machine learnig\\\\stage_ete_02\\\\test_sexe\\\\test_resnet\\\\output_sexe\\\\train\"\n",
    "valid_data_dir = r\"C:\\\\Users\\\\Admin\\\\machine learning\\\\machine learnig\\\\stage_ete_02\\\\test_sexe\\\\test_resnet\\\\output_sexe\\\\val\"\n",
    "test_data_dir = r\"C:\\\\Users\\\\Admin\\\\machine learning\\\\machine learnig\\\\stage_ete_02\\\\test_sexe\\\\test_resnet\\\\output_sexe\\\\test\""
   ]
  },
  {
   "cell_type": "code",
   "execution_count": 5,
   "id": "e68425a6",
   "metadata": {
    "pycharm": {
     "name": "#%%\n"
    }
   },
   "outputs": [
    {
     "name": "stdout",
     "output_type": "stream",
     "text": [
      "Found 1215 images belonging to 2 classes.\n",
      "Found 44 images belonging to 2 classes.\n"
     ]
    }
   ],
   "source": [
    "train_datagen = ImageDataGenerator(preprocessing_function=preprocess_input,\n",
    "    shear_range=0.2,\n",
    "    zoom_range=0.2,\n",
    "    horizontal_flip=True,\n",
    "    validation_split=0.4)\n",
    "\n",
    "train_generator = train_datagen.flow_from_directory(\n",
    "    train_data_dir,\n",
    "    target_size=(img_height,img_width),\n",
    "    batch_size=batch_size,\n",
    "    class_mode='categorical',\n",
    "    subset='training') # set as training data\n",
    "\n",
    "valid_generator=train_datagen.flow_from_directory(\n",
    "    valid_data_dir,#same directory as training data\n",
    "    target_size=(img_height,img_width),\n",
    "    batch_size=batch_size,\n",
    "    class_mode='categorical',\n",
    "    subset='validation')#set as validation data"
   ]
  },
  {
   "cell_type": "code",
   "execution_count": 6,
   "id": "1fc844fb",
   "metadata": {
    "pycharm": {
     "name": "#%%\n"
    }
   },
   "outputs": [
    {
     "name": "stdout",
     "output_type": "stream",
     "text": [
      "Found 45 images belonging to 2 classes.\n"
     ]
    }
   ],
   "source": [
    "test_generator=train_datagen.flow_from_directory(\n",
    "    test_data_dir,#same directory as training data\n",
    "    target_size=(img_height,img_width),\n",
    "    batch_size=1,\n",
    "    class_mode='categorical',\n",
    "    subset='validation')#set as validation data"
   ]
  },
  {
   "cell_type": "code",
   "execution_count": 7,
   "id": "7d5504e8",
   "metadata": {
    "pycharm": {
     "name": "#%%\n"
    }
   },
   "outputs": [
    {
     "data": {
      "text/plain": [
       "(1, 224, 224, 3)"
      ]
     },
     "execution_count": 7,
     "metadata": {},
     "output_type": "execute_result"
    }
   ],
   "source": [
    "x,y = test_generator.next()\n",
    "x.shape"
   ]
  },
  {
   "cell_type": "code",
   "execution_count": 8,
   "id": "1d4f5184",
   "metadata": {
    "pycharm": {
     "name": "#%%\n"
    }
   },
   "outputs": [],
   "source": [
    "base_model = ResNet50(include_top=False,weights='imagenet',input_shape=(img_height,img_width,3))\n",
    "\n",
    "for layer in base_model.layers:\n",
    "    layer.trainable=False\n",
    "    \n",
    "    \n",
    "x = base_model.output\n",
    "x = GlobalAveragePooling2D()(x)\n",
    "x = Dense(1024,activation='relu')(x)\n",
    "x = Dense(512,activation='relu')(x)\n",
    "x = Dense(256,activation='relu')(x)\n",
    "\n",
    "x = Dense(64,activation='relu')(x)\n",
    "                     \n",
    "predictions = Dense(train_generator.num_classes,activation='softmax')(x)\n",
    "model = Model(inputs=base_model.input ,outputs=predictions)\n"
   ]
  },
  {
   "cell_type": "code",
   "execution_count": 9,
   "id": "7de4da34",
   "metadata": {
    "pycharm": {
     "name": "#%%\n"
    }
   },
   "outputs": [
    {
     "name": "stdout",
     "output_type": "stream",
     "text": [
      "Epoch 1/90\n",
      "38/38 [==============================] - 80s 2s/step - loss: 0.6258 - accuracy: 0.6922\n",
      "Epoch 2/90\n",
      "38/38 [==============================] - 68s 2s/step - loss: 0.4208 - accuracy: 0.8239\n",
      "Epoch 3/90\n",
      "38/38 [==============================] - 66s 2s/step - loss: 0.4184 - accuracy: 0.8115\n",
      "Epoch 4/90\n",
      "38/38 [==============================] - 64s 2s/step - loss: 0.3775 - accuracy: 0.8222\n",
      "Epoch 5/90\n",
      "38/38 [==============================] - 62s 2s/step - loss: 0.2931 - accuracy: 0.8724\n",
      "Epoch 6/90\n",
      "38/38 [==============================] - 62s 2s/step - loss: 0.2723 - accuracy: 0.8889\n",
      "Epoch 7/90\n",
      "38/38 [==============================] - 61s 2s/step - loss: 0.2504 - accuracy: 0.9045\n",
      "Epoch 8/90\n",
      "38/38 [==============================] - 64s 2s/step - loss: 0.2482 - accuracy: 0.8979\n",
      "Epoch 9/90\n",
      "38/38 [==============================] - 66s 2s/step - loss: 0.2080 - accuracy: 0.9128\n",
      "Epoch 10/90\n",
      "38/38 [==============================] - 69s 2s/step - loss: 0.2150 - accuracy: 0.9086\n",
      "Epoch 11/90\n",
      "38/38 [==============================] - 63s 2s/step - loss: 0.2147 - accuracy: 0.9185\n",
      "Epoch 12/90\n",
      "38/38 [==============================] - 65s 2s/step - loss: 0.2068 - accuracy: 0.9144\n",
      "Epoch 13/90\n",
      "38/38 [==============================] - 66s 2s/step - loss: 0.2007 - accuracy: 0.9185\n",
      "Epoch 14/90\n",
      "38/38 [==============================] - 65s 2s/step - loss: 0.1622 - accuracy: 0.9276\n",
      "Epoch 15/90\n",
      "38/38 [==============================] - 66s 2s/step - loss: 0.1543 - accuracy: 0.9374\n",
      "Epoch 16/90\n",
      "38/38 [==============================] - 67s 2s/step - loss: 0.1691 - accuracy: 0.9325\n",
      "Epoch 17/90\n",
      "38/38 [==============================] - 67s 2s/step - loss: 0.1883 - accuracy: 0.9128\n",
      "Epoch 18/90\n",
      "38/38 [==============================] - 61s 2s/step - loss: 0.1712 - accuracy: 0.9235\n",
      "Epoch 19/90\n",
      "38/38 [==============================] - 59s 2s/step - loss: 0.1469 - accuracy: 0.9391\n",
      "Epoch 20/90\n",
      "38/38 [==============================] - 59s 2s/step - loss: 0.1130 - accuracy: 0.9523\n",
      "Epoch 21/90\n",
      "38/38 [==============================] - 60s 2s/step - loss: 0.0918 - accuracy: 0.9671\n",
      "Epoch 22/90\n",
      "38/38 [==============================] - 59s 2s/step - loss: 0.1409 - accuracy: 0.9416\n",
      "Epoch 23/90\n",
      "38/38 [==============================] - 60s 2s/step - loss: 0.1337 - accuracy: 0.9449\n",
      "Epoch 24/90\n",
      "38/38 [==============================] - 63s 2s/step - loss: 0.1349 - accuracy: 0.9399\n",
      "Epoch 25/90\n",
      "38/38 [==============================] - 61s 2s/step - loss: 0.1288 - accuracy: 0.9498\n",
      "Epoch 26/90\n",
      "38/38 [==============================] - 66s 2s/step - loss: 0.0997 - accuracy: 0.9605\n",
      "Epoch 27/90\n",
      "38/38 [==============================] - 66s 2s/step - loss: 0.0916 - accuracy: 0.9646\n",
      "Epoch 28/90\n",
      "38/38 [==============================] - 62s 2s/step - loss: 0.0901 - accuracy: 0.9671\n",
      "Epoch 29/90\n",
      "38/38 [==============================] - 61s 2s/step - loss: 0.1135 - accuracy: 0.9506\n",
      "Epoch 30/90\n",
      "38/38 [==============================] - 60s 2s/step - loss: 0.0884 - accuracy: 0.9654\n",
      "Epoch 31/90\n",
      "38/38 [==============================] - 38s 968ms/step - loss: 0.0927 - accuracy: 0.9712\n",
      "Epoch 32/90\n",
      "38/38 [==============================] - 43s 1s/step - loss: 0.0982 - accuracy: 0.9572\n",
      "Epoch 33/90\n",
      "38/38 [==============================] - 43s 1s/step - loss: 0.0741 - accuracy: 0.9695\n",
      "Epoch 34/90\n",
      "38/38 [==============================] - 43s 1s/step - loss: 0.0772 - accuracy: 0.9770\n",
      "Epoch 35/90\n",
      "38/38 [==============================] - 46s 1s/step - loss: 0.0573 - accuracy: 0.9778\n",
      "Epoch 36/90\n",
      "38/38 [==============================] - 45s 1s/step - loss: 0.0979 - accuracy: 0.9663\n",
      "Epoch 37/90\n",
      "38/38 [==============================] - 44s 1s/step - loss: 0.0685 - accuracy: 0.9737\n",
      "Epoch 38/90\n",
      "38/38 [==============================] - 45s 1s/step - loss: 0.0887 - accuracy: 0.9663\n",
      "Epoch 39/90\n",
      "38/38 [==============================] - 45s 1s/step - loss: 0.0668 - accuracy: 0.9753\n",
      "Epoch 40/90\n",
      "38/38 [==============================] - 45s 1s/step - loss: 0.0757 - accuracy: 0.9737\n",
      "Epoch 41/90\n",
      "38/38 [==============================] - 46s 1s/step - loss: 0.0798 - accuracy: 0.9695\n",
      "Epoch 42/90\n",
      "38/38 [==============================] - 44s 1s/step - loss: 0.0796 - accuracy: 0.9671\n",
      "Epoch 43/90\n",
      "38/38 [==============================] - 44s 1s/step - loss: 0.0638 - accuracy: 0.9745\n",
      "Epoch 44/90\n",
      "38/38 [==============================] - 43s 1s/step - loss: 0.0534 - accuracy: 0.9753\n",
      "Epoch 45/90\n",
      "38/38 [==============================] - 49s 1s/step - loss: 0.0708 - accuracy: 0.9737\n",
      "Epoch 46/90\n",
      "38/38 [==============================] - 46s 1s/step - loss: 0.0799 - accuracy: 0.9654\n",
      "Epoch 47/90\n",
      "38/38 [==============================] - 38s 999ms/step - loss: 0.0671 - accuracy: 0.9745\n",
      "Epoch 48/90\n",
      "38/38 [==============================] - 43s 1s/step - loss: 0.0984 - accuracy: 0.9588\n",
      "Epoch 49/90\n",
      "38/38 [==============================] - 48s 1s/step - loss: 0.0569 - accuracy: 0.9761\n",
      "Epoch 50/90\n",
      "38/38 [==============================] - 51s 1s/step - loss: 0.0420 - accuracy: 0.9877\n",
      "Epoch 51/90\n",
      "38/38 [==============================] - 50s 1s/step - loss: 0.0496 - accuracy: 0.9835\n",
      "Epoch 52/90\n",
      "38/38 [==============================] - 49s 1s/step - loss: 0.0563 - accuracy: 0.9761\n",
      "Epoch 53/90\n",
      "38/38 [==============================] - 48s 1s/step - loss: 0.0544 - accuracy: 0.9761\n",
      "Epoch 54/90\n",
      "38/38 [==============================] - 57s 1s/step - loss: 0.0490 - accuracy: 0.9835\n",
      "Epoch 55/90\n",
      "38/38 [==============================] - 54s 1s/step - loss: 0.0547 - accuracy: 0.9770\n",
      "Epoch 56/90\n",
      "38/38 [==============================] - 56s 1s/step - loss: 0.0639 - accuracy: 0.9728\n",
      "Epoch 57/90\n",
      "38/38 [==============================] - 51s 1s/step - loss: 0.0502 - accuracy: 0.9802\n",
      "Epoch 58/90\n",
      "38/38 [==============================] - 44s 1s/step - loss: 0.0544 - accuracy: 0.9794\n",
      "Epoch 59/90\n",
      "38/38 [==============================] - 56s 1s/step - loss: 0.0463 - accuracy: 0.9811\n",
      "Epoch 60/90\n",
      "38/38 [==============================] - 48s 1s/step - loss: 0.0503 - accuracy: 0.9802\n",
      "Epoch 61/90\n",
      "38/38 [==============================] - 48s 1s/step - loss: 0.0644 - accuracy: 0.9712\n",
      "Epoch 62/90\n",
      "38/38 [==============================] - 58s 2s/step - loss: 0.0501 - accuracy: 0.9852\n",
      "Epoch 63/90\n",
      "38/38 [==============================] - 56s 1s/step - loss: 0.0265 - accuracy: 0.9909\n",
      "Epoch 64/90\n",
      "38/38 [==============================] - 60s 2s/step - loss: 0.0910 - accuracy: 0.9605\n",
      "Epoch 65/90\n",
      "38/38 [==============================] - 63s 2s/step - loss: 0.0439 - accuracy: 0.9835\n",
      "Epoch 66/90\n",
      "38/38 [==============================] - 44s 1s/step - loss: 0.0408 - accuracy: 0.9835\n",
      "Epoch 67/90\n",
      "38/38 [==============================] - 59s 2s/step - loss: 0.0540 - accuracy: 0.9778\n",
      "Epoch 68/90\n",
      "38/38 [==============================] - 51s 1s/step - loss: 0.0544 - accuracy: 0.9753\n",
      "Epoch 69/90\n",
      "38/38 [==============================] - 46s 1s/step - loss: 0.0580 - accuracy: 0.9811\n",
      "Epoch 70/90\n",
      "38/38 [==============================] - 35s 914ms/step - loss: 0.0308 - accuracy: 0.9868\n",
      "Epoch 71/90\n",
      "38/38 [==============================] - 35s 905ms/step - loss: 0.0374 - accuracy: 0.9885\n",
      "Epoch 72/90\n",
      "38/38 [==============================] - 37s 967ms/step - loss: 0.0264 - accuracy: 0.9877\n",
      "Epoch 73/90\n",
      "38/38 [==============================] - 40s 1s/step - loss: 0.0466 - accuracy: 0.9860\n",
      "Epoch 74/90\n",
      "38/38 [==============================] - 40s 1s/step - loss: 0.0471 - accuracy: 0.9844\n",
      "Epoch 75/90\n",
      "38/38 [==============================] - 39s 1s/step - loss: 0.0344 - accuracy: 0.9885\n",
      "Epoch 76/90\n",
      "38/38 [==============================] - 39s 1s/step - loss: 0.0512 - accuracy: 0.9819\n",
      "Epoch 77/90\n",
      "38/38 [==============================] - 39s 1s/step - loss: 0.0498 - accuracy: 0.9860\n",
      "Epoch 78/90\n",
      "38/38 [==============================] - 39s 1s/step - loss: 0.0395 - accuracy: 0.9860\n",
      "Epoch 79/90\n",
      "38/38 [==============================] - 39s 1s/step - loss: 0.0226 - accuracy: 0.9901\n",
      "Epoch 80/90\n",
      "38/38 [==============================] - 39s 1s/step - loss: 0.0319 - accuracy: 0.9901\n",
      "Epoch 81/90\n",
      "38/38 [==============================] - 39s 1s/step - loss: 0.0262 - accuracy: 0.9885\n",
      "Epoch 82/90\n",
      "38/38 [==============================] - 39s 1s/step - loss: 0.0480 - accuracy: 0.9844\n",
      "Epoch 83/90\n",
      "38/38 [==============================] - 39s 1s/step - loss: 0.0172 - accuracy: 0.9926\n",
      "Epoch 84/90\n",
      "38/38 [==============================] - 39s 1s/step - loss: 0.0607 - accuracy: 0.9778\n",
      "Epoch 85/90\n",
      "38/38 [==============================] - 39s 1s/step - loss: 0.0366 - accuracy: 0.9819\n",
      "Epoch 86/90\n",
      "38/38 [==============================] - 43s 1s/step - loss: 0.0359 - accuracy: 0.9868\n",
      "Epoch 87/90\n",
      "38/38 [==============================] - 38s 1s/step - loss: 0.0349 - accuracy: 0.9868\n",
      "Epoch 88/90\n",
      "38/38 [==============================] - 39s 1s/step - loss: 0.0643 - accuracy: 0.9753\n",
      "Epoch 89/90\n",
      "38/38 [==============================] - 39s 1s/step - loss: 0.0333 - accuracy: 0.9893\n",
      "Epoch 90/90\n",
      "38/38 [==============================] - 39s 1s/step - loss: 0.0431 - accuracy: 0.9835\n"
     ]
    },
    {
     "data": {
      "text/plain": [
       "<keras.callbacks.History at 0x1f41b179ac0>"
      ]
     },
     "execution_count": 9,
     "metadata": {},
     "output_type": "execute_result"
    }
   ],
   "source": [
    "    \n",
    "model.compile(optimizer='adam',loss='binary_crossentropy' ,metrics=['accuracy'])\n",
    "model.fit(train_generator,\n",
    "                         epochs = 90)"
   ]
  },
  {
   "cell_type": "code",
   "execution_count": 10,
   "id": "e58bfcd0",
   "metadata": {
    "pycharm": {
     "name": "#%%\n"
    }
   },
   "outputs": [],
   "source": [
    "model.save('C:\\\\Users\\\\Admin\\\\machine learning\\\\machine learnig\\\\stage_ete_02\\\\test_sexe\\\\save_test\\\\ResNet50_sexee.h5' )"
   ]
  },
  {
   "cell_type": "code",
   "execution_count": 11,
   "id": "ee01b263",
   "metadata": {
    "pycharm": {
     "name": "#%%\n"
    }
   },
   "outputs": [
    {
     "name": "stdout",
     "output_type": "stream",
     "text": [
      "45/45 - 5s - loss: 1.3412 - accuracy: 0.6667 - 5s/epoch - 101ms/step\n",
      "\n",
      "test accuracy: 0.6666666865348816\n"
     ]
    }
   ],
   "source": [
    "test_loss,test_acc = model.evaluate(test_generator, verbose=2)\n",
    "print('\\ntest accuracy:' , test_acc)"
   ]
  },
  {
   "cell_type": "code",
   "execution_count": 12,
   "id": "5fc55358",
   "metadata": {
    "pycharm": {
     "name": "#%%\n"
    }
   },
   "outputs": [
    {
     "name": "stdout",
     "output_type": "stream",
     "text": [
      "1/1 [==============================] - 1s 872ms/step\n",
      "1/1 [==============================] - 0s 28ms/step\n",
      "1/1 [==============================] - 0s 34ms/step\n",
      "1/1 [==============================] - 0s 37ms/step\n",
      "1/1 [==============================] - 0s 53ms/step\n",
      "1/1 [==============================] - 0s 48ms/step\n",
      "1/1 [==============================] - 0s 46ms/step\n",
      "1/1 [==============================] - 0s 60ms/step\n",
      "1/1 [==============================] - 0s 66ms/step\n",
      "1/1 [==============================] - 0s 39ms/step\n",
      "1/1 [==============================] - 0s 47ms/step\n",
      "1/1 [==============================] - 0s 39ms/step\n",
      "1/1 [==============================] - 0s 55ms/step\n",
      "1/1 [==============================] - 0s 38ms/step\n",
      "1/1 [==============================] - 0s 34ms/step\n",
      "1/1 [==============================] - 0s 33ms/step\n",
      "1/1 [==============================] - 0s 44ms/step\n",
      "1/1 [==============================] - 0s 52ms/step\n",
      "1/1 [==============================] - 0s 72ms/step\n",
      "1/1 [==============================] - 0s 47ms/step\n",
      "1/1 [==============================] - 0s 53ms/step\n",
      "1/1 [==============================] - 0s 61ms/step\n",
      "1/1 [==============================] - 0s 57ms/step\n",
      "1/1 [==============================] - 0s 58ms/step\n",
      "1/1 [==============================] - 0s 51ms/step\n",
      "1/1 [==============================] - 0s 31ms/step\n",
      "1/1 [==============================] - 0s 35ms/step\n",
      "1/1 [==============================] - 0s 39ms/step\n",
      "1/1 [==============================] - 0s 31ms/step\n",
      "1/1 [==============================] - 0s 40ms/step\n",
      "1/1 [==============================] - 0s 35ms/step\n",
      "1/1 [==============================] - 0s 37ms/step\n",
      "1/1 [==============================] - 0s 41ms/step\n",
      "1/1 [==============================] - 0s 47ms/step\n",
      "1/1 [==============================] - 0s 43ms/step\n",
      "1/1 [==============================] - 0s 31ms/step\n",
      "1/1 [==============================] - 0s 37ms/step\n",
      "1/1 [==============================] - 0s 31ms/step\n",
      "1/1 [==============================] - 0s 28ms/step\n",
      "1/1 [==============================] - 0s 27ms/step\n",
      "1/1 [==============================] - 0s 32ms/step\n",
      "1/1 [==============================] - 0s 29ms/step\n",
      "1/1 [==============================] - 0s 30ms/step\n",
      "1/1 [==============================] - 0s 26ms/step\n",
      "1/1 [==============================] - 0s 26ms/step\n"
     ]
    },
    {
     "data": {
      "image/png": "[encoded data removed]",
      "text/plain": [
       "<Figure size 432x288 with 2 Axes>"
      ]
     },
     "metadata": {
      "needs_background": "light"
     },
     "output_type": "display_data"
    },
    {
     "name": "stdout",
     "output_type": "stream",
     "text": [
      "test accuracy:77.77777777777779\n"
     ]
    }
   ],
   "source": [
    "model = tf.keras.models.load_model(\"C:\\\\Users\\\\Admin\\\\machine learning\\\\machine learnig\\\\stage_ete_02\\\\test_sexe\\\\save_test\\\\ResNet50_sexe.h5\")\n",
    "filenames = test_generator.filenames\n",
    "nb_samples = len(test_generator)\n",
    "y_prob=[]\n",
    "y_act=[]\n",
    "test_generator.reset()\n",
    "for _ in range(nb_samples):\n",
    "    X_test,Y_test = test_generator.next()\n",
    "    y_prob.append(model.predict(X_test))\n",
    "    y_act.append(Y_test)\n",
    "\n",
    "predicted_class = [list(train_generator.class_indices.keys())[i.argmax()] for i in y_prob]\n",
    "actual_class = [list(train_generator.class_indices.keys())[i.argmax()]for i in y_act]\n",
    "\n",
    "out_df = pd.DataFrame(np.vstack([predicted_class,actual_class]).T,columns=['predicted_class','actual_class'])\n",
    "confusion_matrix = pd.crosstab(out_df['actual_class'],out_df['predicted_class'],rownames=['Actual'],colnames=['Predicted'])\n",
    "\n",
    "sns.heatmap(confusion_matrix,cmap='Blues',annot=True,fmt='d')\n",
    "plt.show()\n",
    "print('test accuracy:{}'.format((np.diagonal(confusion_matrix).sum()/confusion_matrix.sum().sum()*100)))"
   ]
  },
  {
   "cell_type": "code",
   "execution_count": null,
   "id": "a6696edf",
   "metadata": {
    "pycharm": {
     "name": "#%%\n"
    }
   },
   "outputs": [],
   "source": []
  },
  {
   "cell_type": "code",
   "execution_count": null,
   "id": "fd214d3e",
   "metadata": {
    "pycharm": {
     "name": "#%%\n"
    }
   },
   "outputs": [],
   "source": []
  },
  {
   "cell_type": "code",
   "execution_count": null,
   "id": "f673413b",
   "metadata": {
    "pycharm": {
     "name": "#%%\n"
    }
   },
   "outputs": [],
   "source": []
  },
  {
   "cell_type": "code",
   "execution_count": null,
   "id": "2c044e03",
   "metadata": {
    "pycharm": {
     "name": "#%%\n"
    }
   },
   "outputs": [],
   "source": []
  },
  {
   "cell_type": "code",
   "execution_count": null,
   "id": "a68cd422",
   "metadata": {
    "pycharm": {
     "name": "#%%\n"
    }
   },
   "outputs": [],
   "source": []
  }
 ],
 "metadata": {
  "kernelspec": {
   "display_name": "Python 3 (ipykernel)",
   "language": "python",
   "name": "python3"
  },
  "language_info": {
   "codemirror_mode": {
    "name": "ipython",
    "version": 3
   },
   "file_extension": ".py",
   "mimetype": "text/x-python",
   "name": "python",
   "nbconvert_exporter": "python",
   "pygments_lexer": "ipython3",
   "version": "3.9.12"
  }
 },
 "nbformat": 4,
 "nbformat_minor": 5
}
